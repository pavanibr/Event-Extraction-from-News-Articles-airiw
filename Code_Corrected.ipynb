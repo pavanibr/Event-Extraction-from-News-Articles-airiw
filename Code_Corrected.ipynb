{
 "cells": [
  {
   "cell_type": "code",
   "execution_count": 15,
   "id": "received-vertex",
   "metadata": {
    "colab": {
     "base_uri": "https://localhost:8080/"
    },
    "id": "received-vertex",
    "outputId": "350492c0-43bd-48f9-8ee0-58e7c2bb75eb"
   },
   "outputs": [
    {
     "name": "stdout",
     "output_type": "stream",
     "text": [
      "Looking in indexes: https://pypi.org/simple, https://us-python.pkg.dev/colab-wheels/public/simple/\n",
      "Requirement already satisfied: newsapi-python in /usr/local/lib/python3.10/dist-packages (0.2.7)\n",
      "Requirement already satisfied: requests<3.0.0 in /usr/local/lib/python3.10/dist-packages (from newsapi-python) (2.27.1)\n",
      "Requirement already satisfied: certifi>=2017.4.17 in /usr/local/lib/python3.10/dist-packages (from requests<3.0.0->newsapi-python) (2022.12.7)\n",
      "Requirement already satisfied: idna<4,>=2.5 in /usr/local/lib/python3.10/dist-packages (from requests<3.0.0->newsapi-python) (3.4)\n",
      "Requirement already satisfied: charset-normalizer~=2.0.0 in /usr/local/lib/python3.10/dist-packages (from requests<3.0.0->newsapi-python) (2.0.12)\n",
      "Requirement already satisfied: urllib3<1.27,>=1.21.1 in /usr/local/lib/python3.10/dist-packages (from requests<3.0.0->newsapi-python) (1.26.15)\n"
     ]
    }
   ],
   "source": [
    "!pip3 install newsapi-python"
   ]
  },
  {
   "cell_type": "code",
   "execution_count": 16,
   "id": "guilty-mobility",
   "metadata": {
    "id": "guilty-mobility"
   },
   "outputs": [],
   "source": [
    "# !python3 -m spacy download en_core_web_lg"
   ]
  },
  {
   "cell_type": "code",
   "execution_count": 17,
   "id": "labeled-torture",
   "metadata": {
    "id": "labeled-torture"
   },
   "outputs": [],
   "source": [
    "from tqdm import tqdm\n",
    "import pandas as pd\n",
    "import numpy as np\n",
    "from newsapi import NewsApiClient\n",
    "import nltk\n",
    "from nltk.tokenize import word_tokenize\n",
    "import string\n",
    "from nltk.corpus import stopwords\n",
    "import spacy\n",
    "from sklearn.cluster import DBSCAN\n",
    "import matplotlib.pyplot as plt\n",
    "import seaborn as sns\n",
    "nlp = spacy.load('en_core_web_sm')"
   ]
  },
  {
   "cell_type": "markdown",
   "id": "C6SV1Pv_naHy",
   "metadata": {
    "id": "C6SV1Pv_naHy"
   },
   "source": []
  },
  {
   "cell_type": "code",
   "execution_count": 18,
   "id": "disciplinary-multimedia",
   "metadata": {
    "id": "disciplinary-multimedia"
   },
   "outputs": [],
   "source": [
    "df = pd.read_csv('news dataset.csv', usecols=range(1, 3))"
   ]
  },
  {
   "cell_type": "code",
   "execution_count": 19,
   "id": "american-formula",
   "metadata": {
    "id": "american-formula"
   },
   "outputs": [],
   "source": [
    "df.drop_duplicates('description', inplace=True)"
   ]
  },
  {
   "cell_type": "code",
   "execution_count": 20,
   "id": "polish-bidding",
   "metadata": {
    "id": "polish-bidding"
   },
   "outputs": [],
   "source": [
    "descriptions = df['description'].values"
   ]
  },
  {
   "cell_type": "code",
   "execution_count": 21,
   "id": "exterior-geneva",
   "metadata": {
    "id": "exterior-geneva"
   },
   "outputs": [],
   "source": [
    "def pre_process_text(text):\n",
    "\n",
    "    tokens = word_tokenize(text)\n",
    "    # convert to lower case\n",
    "    tokens = [w.lower() for w in tokens]\n",
    "    # remove punctuation from each word\n",
    "\n",
    "    table = str.maketrans('', '', string.punctuation)\n",
    "    stripped = [w.translate(table) for w in tokens]\n",
    "    # remove remaining tokens that are not alphabetic\n",
    "    words = [word for word in stripped if word.isalpha()]\n",
    "    # filter out stop words\n",
    "\n",
    "    stop_words = set(stopwords.words('english'))\n",
    "    words = [w for w in words if not w in stop_words]\n",
    "    return words\n",
    "  \n",
    "\n",
    "def ner_tagging(text):\n",
    "    tokens = word_tokenize(text)\n",
    "    # convert to lower case\n",
    "    tokens = [w.lower() for w in tokens]\n",
    "    table = str.maketrans('', '', string.punctuation)\n",
    "    stripped = [w.translate(table) for w in tokens]\n",
    "\n",
    "    words = [word for word in stripped if word.isalpha()]\n",
    "\n",
    "    doc = nlp(text)\n",
    "    stop_words = set(stopwords.words('english'))\n",
    "    words = [w for w in words if not w in stop_words]\n",
    "    return words\n"
   ]
  },
  {
   "cell_type": "code",
   "execution_count": 22,
   "id": "explicit-laundry",
   "metadata": {
    "colab": {
     "base_uri": "https://localhost:8080/"
    },
    "id": "explicit-laundry",
    "outputId": "c82c68bf-461c-4feb-c12e-6d9a1b95ed38"
   },
   "outputs": [
    {
     "name": "stderr",
     "output_type": "stream",
     "text": [
      "[nltk_data] Downloading package punkt to /root/nltk_data...\n",
      "[nltk_data]   Package punkt is already up-to-date!\n",
      "[nltk_data] Downloading package stopwords to /root/nltk_data...\n",
      "[nltk_data]   Package stopwords is already up-to-date!\n",
      "100%|██████████| 2128/2128 [02:55<00:00, 12.09it/s]\n"
     ]
    }
   ],
   "source": [
    "import nltk\n",
    "nltk.download('punkt')\n",
    "nltk.download('stopwords')\n",
    "processed_descriptions = []\n",
    "triggered_events = []\n",
    "for description in tqdm(descriptions):\n",
    "    processed_descriptions.append(' '.join(pre_process_text(description)))\n",
    "\n",
    "# Loop through the news articles and extract events\n",
    "# for article in news_articles:\n",
    "    # Parse the text with spaCy\n",
    "    doc = nlp(description)\n",
    "    \n",
    "    # Extract events using spaCy's entity and dependency parsing\n",
    "    for sent in doc.sents:\n",
    "        for ent in sent.ents:\n",
    "            if ent.label_ == 'ORG' or ent.label_ == 'PERSON':\n",
    "                # Identify the subject of the sentence\n",
    "                subj = ent.text\n",
    "                # print(subj)\n",
    "                verb = None\n",
    "                obj = None\n",
    "                for token in sent:\n",
    "                    if token.dep_ == 'ROOT':\n",
    "                        verb = token.text\n",
    "                    if token.dep_ == 'dobj':\n",
    "                        obj = token.text\n",
    "                # Print the extracted event\n",
    "                if verb and obj:\n",
    "                    if sent not in triggered_events:\n",
    "                      triggered_events.append(sent)"
   ]
  },
  {
   "cell_type": "code",
   "execution_count": 23,
   "id": "NVJhiOgQCsrC",
   "metadata": {
    "colab": {
     "base_uri": "https://localhost:8080/"
    },
    "id": "NVJhiOgQCsrC",
    "outputId": "2b5a4706-dd7a-49c6-a478-f68c3f335a80"
   },
   "outputs": [
    {
     "name": "stdout",
     "output_type": "stream",
     "text": [
      "2913  asd  2128\n",
      "<class 'str'>\n"
     ]
    }
   ],
   "source": [
    "print(len(triggered_events),\" asd \",len(processed_descriptions))\n",
    "print(type(processed_descriptions[0]))"
   ]
  },
  {
   "cell_type": "code",
   "execution_count": 24,
   "id": "preliminary-customs",
   "metadata": {
    "colab": {
     "base_uri": "https://localhost:8080/"
    },
    "id": "preliminary-customs",
    "outputId": "4d641d49-c427-488c-f108-80fdf4d6e7e5"
   },
   "outputs": [
    {
     "name": "stderr",
     "output_type": "stream",
     "text": [
      "100%|██████████| 2128/2128 [01:44<00:00, 20.34it/s]\n"
     ]
    }
   ],
   "source": [
    "nlp = spacy.load('en_core_web_sm')\n",
    "\n",
    "sent_vecs = {}\n",
    "docs = []\n",
    "\n",
    "for index, description in enumerate(tqdm(processed_descriptions)):\n",
    "    doc = nlp(description)\n",
    "    docs.append(doc)\n",
    "    sent_vecs[index] = doc.vector"
   ]
  },
  {
   "cell_type": "code",
   "execution_count": 25,
   "id": "checked-verse",
   "metadata": {
    "id": "checked-verse"
   },
   "outputs": [],
   "source": [
    "vectors = list(sent_vecs.values())"
   ]
  },
  {
   "cell_type": "code",
   "execution_count": 26,
   "id": "japanese-ceiling",
   "metadata": {
    "id": "japanese-ceiling"
   },
   "outputs": [],
   "source": [
    "vectors = np.array(vectors)"
   ]
  },
  {
   "cell_type": "code",
   "execution_count": 27,
   "id": "political-africa",
   "metadata": {
    "colab": {
     "base_uri": "https://localhost:8080/"
    },
    "id": "political-africa",
    "outputId": "fa2f2c70-75a2-4137-995b-0c91d3e59830"
   },
   "outputs": [
    {
     "name": "stderr",
     "output_type": "stream",
     "text": [
      "100%|██████████| 500/500 [01:01<00:00,  8.14it/s]\n"
     ]
    }
   ],
   "source": [
    "labels_results = {}\n",
    "for i in tqdm(np.arange(0.001, 1, 0.002)):\n",
    "    dbscan = DBSCAN(eps=i, min_samples=5, metric='cosine').fit(vectors)\n",
    "    labels_results[i] = len(pd.Series(dbscan.labels_).value_counts())"
   ]
  },
  {
   "cell_type": "code",
   "execution_count": 28,
   "id": "virtual-procedure",
   "metadata": {
    "id": "virtual-procedure"
   },
   "outputs": [],
   "source": [
    "dbscan = DBSCAN(eps=0.015, min_samples=5, metric='cosine').fit(vectors)"
   ]
  },
  {
   "cell_type": "code",
   "execution_count": 29,
   "id": "macro-durham",
   "metadata": {
    "id": "macro-durham"
   },
   "outputs": [],
   "source": [
    "results = pd.DataFrame({\n",
    "    'desc': processed_descriptions, \n",
    "    'label': dbscan.labels_\n",
    "})"
   ]
  },
  {
   "cell_type": "code",
   "execution_count": 30,
   "id": "weighted-bargain",
   "metadata": {
    "colab": {
     "base_uri": "https://localhost:8080/"
    },
    "id": "weighted-bargain",
    "outputId": "ed2f445d-8f7a-43ba-fce3-2ba807b5dd27"
   },
   "outputs": [
    {
     "data": {
      "text/plain": [
       "-1    1712\n",
       " 0     399\n",
       " 1      12\n",
       " 2       5\n",
       "Name: label, dtype: int64"
      ]
     },
     "execution_count": 30,
     "metadata": {},
     "output_type": "execute_result"
    }
   ],
   "source": [
    "results['label'].value_counts()"
   ]
  },
  {
   "cell_type": "code",
   "execution_count": 31,
   "id": "swedish-fancy",
   "metadata": {
    "colab": {
     "base_uri": "https://localhost:8080/"
    },
    "id": "swedish-fancy",
    "outputId": "cf646dc3-1ebb-4691-e6c3-d36274bc24c0",
    "scrolled": false
   },
   "outputs": [
    {
     "name": "stdout",
     "output_type": "stream",
     "text": [
      "chelsea sack mutu chelsea sacked adrian mutu failed drugs test yearold tested positive banned substance later denied cocaine october chelsea decided write possible transfer fee mutu signing parma last season may face twoyear suspension statement chelsea explaining decision readwe want make clear chelsea zero tolerance policy towards drugs mutu scored six goals first five games arriving stamford bridge form went decline frozen coach jose mourinho chelseas statement added applies performanceenhancing drugs socalled recreational drugs place club sport coming decision case chelsea believed clubs social responsibility fans players employees stakeholders football regarding drugs important major financial considerations company player takes drugs breaches contract club well football association rules club totally supports fa strong action drugs cases fifas disciplinary code stipulates first doping offence followed sixmonth ban sports world governing body reiterated stance mutus failed drugs test maintaining matter domestic sporting authorities fifa position make comment matter english fa informed us disciplinary decision relevant information associated said fifa spokesman chelseas move backing drugtesting expert michelle verroken verroken former director drugfree sport uk sport insists blues right sack mutu enhanced reputation chelsea saying quite clearly rest players fans situation prepared tolerate difficult decision expensive decision terms contract breached decision could make clear stance chelsea given strong boost reputation club emerged mutu failed drugs test october although initially reported banned substance question cocaine romanian international later suggested substance designed enhance sexual performance football association yet act mutus failed drugs test refuses discuss case\n",
      "\n",
      "man utd exeter test manchester united avoided fa cup upset edging past exeter city third round replay cristiano ronaldo scored opener slipping ball paul jones legs nine minutes united wasted host chances make safe jones made great saves wayne rooney put tie beyond doubt late cool finish exeter chances sean devine twice volleying wide andrew taylor forcing tim howard save united boss sir alex ferguson taking chances draw first game handed starts paul scholes ryan well ronaldo rooney exeter began brightly devine steve flack seeing plenty ball take united long assert authority hosts soon found goal scholes played lovely pass ronaldo lefthand side sixyard box portuguese winger slid ball legs jones open scoring united sensed chance finish tie contest early ronaldo blazed jones saved well scholes rooney visitors pressure incessant rooney another shot blocked ronaldo slammed well bar good position break giggs golden chance double advantage welshman dragged leftfoot effort badly wide yards stoppage time exeter created best chance alex jeannin swung cross left devine managed flick goalwards ball flew wide howards goal grecians came break determined fashion howard show safe hands collect two searching crosses united box rooney looked like might sealed result turn shot ball stuck st james park mud jones raced back gather goalline moments later devine chance make hero could volley jeannins brilliant cross wide howards goal left unmarked six yards rooney completely messed freekick yards taylor showed done stunning drive distance forcing flying stop howard home crowd baying goal get ball net devines low effort ruled obvious offside persistent rooney eventually rounded jones three minutes go slotted empty net book home tie middlesbrough fourth round jones hiley sawyer gaia jeannin moxey taylor martin ampadu afful clay flack edwards devine subs used rice todd ampadu clay howard phil neville gary neville oshea fortune giggs saha miller fletcher scholes djembadjemba silvestre ronaldo rooney subs used ricardo bellion ronaldo rooney p dowd staffordshire\n",
      "\n",
      "hearts livingston hearts wrapped scottish cup quarterfinal tie livingston two goals first minutes lee miller scored inside opening seconds heading colin meldrum net jamie mcallister free kick mcallister scored second met saul mikoliunas cross back post put game beyond visitors craig easton headed controversial goal hour hearts held opening goal came gus bahoken clumsily fouled miller yards goal mcallister floated free kick livi box miller outjumped static visiting defence loop header yards meldrum minutes clock home side doubled lead mikoliunas sprinted right crossed back post mcallister raced head past meldrum moments later miller came close grabbing second firsttime drive yards skimmed bar mcallister picked pass stephen simmons drove angled shot yards narrowly past meldrums far post impressive mikoliunas twice went close half time low drive comfortably gathered meldrum curled leftfooted shot past keepers righthand post livi manager richard gough made three changes interval bringing defender goran stanic midfielder gabor vincze striker ferenc horvath bahoken derek lilley mark wilson opening stages second period little changed however west lothian side gave lifeline controversial goal eric deloumeaux sent jason dair away right tried give ball mcpake looked offside position livi striker ignored pass however dair ran played easton back post headed home close range home side called offside mcpake referee alan freeland ignored claims pointed centrecircle livi went equaliser th minute burton obrien hauled back edge box neil macfarlane dair sent shot inches wide gordon webster miller hartley neilson mcallister simmons macfarlane berra burchill wyness mikoliunas cesnauskis wallace moilanen kizys berra webster miller mcallister meldrum mcnamee bahoken stanic deloumeaux strong dair easton mark wilson vincze lilley horvath obrien mcpake mckenzie hand vincze horvath easton freeland\n",
      "\n",
      "irish athletics year wont remembered one irish athletics great years year began optimism invariably unaccountably seems herald upcoming olympiad come late august hot days magnificent stadium athens told us true strength irish athletics accurate lack sonia osullivans olympic farewell apart little stir emotions irish athletics watchers disastrous buildup games shouldnt surprised start year osullivan earmarked irelands best medal prospect turned walker gillian never even made start line injury less week olympics sport rocked news hope cathal lombard tested banned substance epo lombards shattering mark carrolls national record april already set tongues wagging even cynical observers surprised rumbled irish sports council sting operation corkman quickly held hands admission promptly handed twoyear ban sport back preolympic ranch greece must seemed things couldnt got worse nearly walker jamie costin lucky escape life involved car crash near athens track field action began athens familiar pattern underachievement emerged although alistair craggs performance athlete european nation qualify final offer hope future beloved sonia scraped womens k final fastest loser couple days country attempted delude believing might medal shakeup happened went back door early final although nothing undignified way insisted finishing race minute behind winner meseret defar later transpired sonia suffering stomach bug hours final although typically cobhwoman played effects illness amazingly back action couple weeks later beating worldclass field flora lite k road race london major championship days may unlikely seen last competition least sonia managed make athens start year several northern ireland athletes genuine hopes qualifying games come august outofform injured paul brizzel lone standard bearer province ballymena man gave lash achilles problem bad lane draw meant time early exit james mcilroy gareth turnbull zoe brown paul mckee content watching athens action television screens hope mcilroy never got near best summer fourth place british trials effectively ended hopes making plane injuryplagued turnbull gamely travelled round europe search qualifying mark best could achieve missing several months training previous winter lingering hamstring probem virus wrecked mckees athens ambitions turnbull deserve slice better fortune pole vaulter brown hoped vote confidence british selectors achieved athens b standard call never came summer ended stalwarts catherina mckiernan dermot donnelly hung competitive spikes mckiernan candidly acknowledge time crept several injuryravaged years donnelly annadale striders teammates later suffered tragedy friend clubman andy campbell found dead home december large turnout athleticsloving folk turned west belfast offer respects campbell family andys many friends death put years athletics happenings sharp perspective\n",
      "\n",
      "osullivan keeps powder dry gunning glory ultimate success keeping gunpowder dry essential ireland coach eddie osullivan appears done quite successfully runup seasons six nations championship decreed world cup players decent conditioning period year became reality end last summer week period start season may annoyed scottish particularly welsh cousins huffed puffed disrespect apparently shown celtic league say nothing mike ruddock poaching eight dragons side faced leinster sunday like osullivan well within rights particularly talking national side pride goes along irfu thrown weight behind osullivan must glad main centrallycontrolled contracts bar keith gleeson returning broken leg everyone osullivans squad fit fresh standing oche ready launch seasons campaign doubt whether osullivan going gloat handling players sort person however may look overworked injuryhit england wales france squads whose players overworked pat back foresight still question turning transferring freshness positive results referee signals start game already ireland earmarked hot favourites many quarters go whole hog season first grand slam since karl mullens led team clean sweep england france visiting lansdowne road last time old darling pulled everything looks perfectly placed days yore frightened life irishman burden great expectations ireland crumpled take triple crownwinning side mick doyle expected ante grand slam second irelands history happened whitewashed see ireland sport love downsized go prove point contrary nature beast osullivans side capable proving salient point season first triple crown years live success take step ladder osullivan kept faith displayed loyalty players repaid spades come old dogs squad come seasons championship different box tricks new verve succeed ireland indeed succeed whisper\n",
      "\n",
      "newcastle bolton kieron dyer smashed home winner end boltons game unbeaten run lee bowyer put newcastle ahead fed stephen carr right flank sprinted area power home header resultant cross wanderers hit back stelios giannakopoulos ended fluid passing move wellstruck volley dyer last word game chances pouncing loose ball alan shearers shot blocked firing top corner neither side lacked urgency early stages game plenty tackles flying opportunities front goal harder come bolton keeper jussi jaaskelainen make two saves quick succession midway firsthalf keeping shearers low shot dyers closerange header goalmouth action note almost nothing magpies took lead minutes bowyer found space neat turn halfway line striding forward picked carr right continued run perfect timing made way box met carrs cross downward header far corner bolton produced little going forward point responded well level within six minutes thanks smart finish giannakopoulos jayjay okocha twisted turned edge area neat exchange passes involving kevin davies gary speed greek striker found bottom corner firsttime strike magpies opened halftime davies set giannakopoulos space given block near post home side survived retaken lead first meaningful attack second half fernando hierro cynically chopped dyer edge area midfielder clean veteran defender escaped booking defenders nearby resultant freekick laurent robert curled ball wide bolton creating little going forward seemed content frustrate magpies strategy seemed working th minute alan shearers snapshot charged dyer reacted first smash ball past despairing jaaskelainen six yards bolton boss sam allardyce bitterly disappointed result probably disappointed secondhalf performance first half put lot pressure goal matched quality thought would lift us might tired playing lot games unfortunately battle second half allowed heap much pressure us end cracked newcastle boss graeme souness deserved win really good second half bolton difficult side play match physically first played football slow first minutes looked bit tired got going scoreline flattered could one two goals newcastle given carr boumsong bramble babayaro dyer faye bowyer robert jenas ameobi shearer subs used butt harper milner hughes goals bowyer dyer bolton jaaskelainen hunt fadiga ngotty ben haim candela giannakopoulos okocha vaz te hierro campo speed gardner davies subs used jaidi poole booked ben haim hierro goals giannakopoulos att ref dunn gloucestershire\n",
      "\n"
     ]
    }
   ],
   "source": [
    "for index in results[results['label'] == 0].index[:6]:\n",
    "    print(results.loc[index]['desc'],end='\\n\\n')\n",
    "    # print('....')"
   ]
  },
  {
   "cell_type": "code",
   "execution_count": 32,
   "id": "zaT867JjMRYt",
   "metadata": {
    "colab": {
     "base_uri": "https://localhost:8080/",
     "height": 206
    },
    "id": "zaT867JjMRYt",
    "outputId": "52597b98-36d6-43b6-d204-f689ce4c2504"
   },
   "outputs": [
    {
     "data": {
      "text/html": [
       "\n",
       "  <div id=\"df-651b94bb-4648-48b6-b89d-8bf2c10ce612\">\n",
       "    <div class=\"colab-df-container\">\n",
       "      <div>\n",
       "<style scoped>\n",
       "    .dataframe tbody tr th:only-of-type {\n",
       "        vertical-align: middle;\n",
       "    }\n",
       "\n",
       "    .dataframe tbody tr th {\n",
       "        vertical-align: top;\n",
       "    }\n",
       "\n",
       "    .dataframe thead th {\n",
       "        text-align: right;\n",
       "    }\n",
       "</style>\n",
       "<table border=\"1\" class=\"dataframe\">\n",
       "  <thead>\n",
       "    <tr style=\"text-align: right;\">\n",
       "      <th></th>\n",
       "      <th>desc</th>\n",
       "      <th>label</th>\n",
       "    </tr>\n",
       "  </thead>\n",
       "  <tbody>\n",
       "    <tr>\n",
       "      <th>0</th>\n",
       "      <td>chelsea sack mutu chelsea sacked adrian mutu f...</td>\n",
       "      <td>0</td>\n",
       "    </tr>\n",
       "    <tr>\n",
       "      <th>1</th>\n",
       "      <td>record fails lift lacklustre meet yelena isinb...</td>\n",
       "      <td>-1</td>\n",
       "    </tr>\n",
       "    <tr>\n",
       "      <th>2</th>\n",
       "      <td>edu describes tunnel fracas arsenals edu lifte...</td>\n",
       "      <td>-1</td>\n",
       "    </tr>\n",
       "    <tr>\n",
       "      <th>3</th>\n",
       "      <td>ogara revels ireland victory ireland flyhalf r...</td>\n",
       "      <td>-1</td>\n",
       "    </tr>\n",
       "    <tr>\n",
       "      <th>4</th>\n",
       "      <td>unclear future striker baros liverpool forward...</td>\n",
       "      <td>-1</td>\n",
       "    </tr>\n",
       "  </tbody>\n",
       "</table>\n",
       "</div>\n",
       "      <button class=\"colab-df-convert\" onclick=\"convertToInteractive('df-651b94bb-4648-48b6-b89d-8bf2c10ce612')\"\n",
       "              title=\"Convert this dataframe to an interactive table.\"\n",
       "              style=\"display:none;\">\n",
       "        \n",
       "  <svg xmlns=\"http://www.w3.org/2000/svg\" height=\"24px\"viewBox=\"0 0 24 24\"\n",
       "       width=\"24px\">\n",
       "    <path d=\"M0 0h24v24H0V0z\" fill=\"none\"/>\n",
       "    <path d=\"M18.56 5.44l.94 2.06.94-2.06 2.06-.94-2.06-.94-.94-2.06-.94 2.06-2.06.94zm-11 1L8.5 8.5l.94-2.06 2.06-.94-2.06-.94L8.5 2.5l-.94 2.06-2.06.94zm10 10l.94 2.06.94-2.06 2.06-.94-2.06-.94-.94-2.06-.94 2.06-2.06.94z\"/><path d=\"M17.41 7.96l-1.37-1.37c-.4-.4-.92-.59-1.43-.59-.52 0-1.04.2-1.43.59L10.3 9.45l-7.72 7.72c-.78.78-.78 2.05 0 2.83L4 21.41c.39.39.9.59 1.41.59.51 0 1.02-.2 1.41-.59l7.78-7.78 2.81-2.81c.8-.78.8-2.07 0-2.86zM5.41 20L4 18.59l7.72-7.72 1.47 1.35L5.41 20z\"/>\n",
       "  </svg>\n",
       "      </button>\n",
       "      \n",
       "  <style>\n",
       "    .colab-df-container {\n",
       "      display:flex;\n",
       "      flex-wrap:wrap;\n",
       "      gap: 12px;\n",
       "    }\n",
       "\n",
       "    .colab-df-convert {\n",
       "      background-color: #E8F0FE;\n",
       "      border: none;\n",
       "      border-radius: 50%;\n",
       "      cursor: pointer;\n",
       "      display: none;\n",
       "      fill: #1967D2;\n",
       "      height: 32px;\n",
       "      padding: 0 0 0 0;\n",
       "      width: 32px;\n",
       "    }\n",
       "\n",
       "    .colab-df-convert:hover {\n",
       "      background-color: #E2EBFA;\n",
       "      box-shadow: 0px 1px 2px rgba(60, 64, 67, 0.3), 0px 1px 3px 1px rgba(60, 64, 67, 0.15);\n",
       "      fill: #174EA6;\n",
       "    }\n",
       "\n",
       "    [theme=dark] .colab-df-convert {\n",
       "      background-color: #3B4455;\n",
       "      fill: #D2E3FC;\n",
       "    }\n",
       "\n",
       "    [theme=dark] .colab-df-convert:hover {\n",
       "      background-color: #434B5C;\n",
       "      box-shadow: 0px 1px 3px 1px rgba(0, 0, 0, 0.15);\n",
       "      filter: drop-shadow(0px 1px 2px rgba(0, 0, 0, 0.3));\n",
       "      fill: #FFFFFF;\n",
       "    }\n",
       "  </style>\n",
       "\n",
       "      <script>\n",
       "        const buttonEl =\n",
       "          document.querySelector('#df-651b94bb-4648-48b6-b89d-8bf2c10ce612 button.colab-df-convert');\n",
       "        buttonEl.style.display =\n",
       "          google.colab.kernel.accessAllowed ? 'block' : 'none';\n",
       "\n",
       "        async function convertToInteractive(key) {\n",
       "          const element = document.querySelector('#df-651b94bb-4648-48b6-b89d-8bf2c10ce612');\n",
       "          const dataTable =\n",
       "            await google.colab.kernel.invokeFunction('convertToInteractive',\n",
       "                                                     [key], {});\n",
       "          if (!dataTable) return;\n",
       "\n",
       "          const docLinkHtml = 'Like what you see? Visit the ' +\n",
       "            '<a target=\"_blank\" href=https://colab.research.google.com/notebooks/data_table.ipynb>data table notebook</a>'\n",
       "            + ' to learn more about interactive tables.';\n",
       "          element.innerHTML = '';\n",
       "          dataTable['output_type'] = 'display_data';\n",
       "          await google.colab.output.renderOutput(dataTable, element);\n",
       "          const docLink = document.createElement('div');\n",
       "          docLink.innerHTML = docLinkHtml;\n",
       "          element.appendChild(docLink);\n",
       "        }\n",
       "      </script>\n",
       "    </div>\n",
       "  </div>\n",
       "  "
      ],
      "text/plain": [
       "                                                desc  label\n",
       "0  chelsea sack mutu chelsea sacked adrian mutu f...      0\n",
       "1  record fails lift lacklustre meet yelena isinb...     -1\n",
       "2  edu describes tunnel fracas arsenals edu lifte...     -1\n",
       "3  ogara revels ireland victory ireland flyhalf r...     -1\n",
       "4  unclear future striker baros liverpool forward...     -1"
      ]
     },
     "execution_count": 32,
     "metadata": {},
     "output_type": "execute_result"
    }
   ],
   "source": [
    "results.head()"
   ]
  },
  {
   "cell_type": "code",
   "execution_count": 33,
   "id": "CdpANTq5_eMZ",
   "metadata": {
    "colab": {
     "base_uri": "https://localhost:8080/"
    },
    "id": "CdpANTq5_eMZ",
    "outputId": "89d0711f-bfe6-49c9-ed39-76151c9bf73e"
   },
   "outputs": [
    {
     "name": "stdout",
     "output_type": "stream",
     "text": [
      "RIA news agency\n",
      "Moldova\n",
      "Moldovan\n",
      "Transnistria\n",
      "Leonid Manakov\n",
      "RIA\n",
      "Transnistria\n",
      "Moldova\n",
      "Chisinau\n"
     ]
    }
   ],
   "source": [
    "import spacy\n",
    "\n",
    "nlp = spacy.load('en_core_web_sm')\n",
    "\n",
    "news_articles = [\n",
    "    'Moldova’s unrecognised breakaway region of Transnistria says it wants Moscow to bulk up its small contingent of peacekeepers because of what it called growing security risks, Russia’s state-owned RIA news agency reported. Though Moldova does not allow Russia to deploy new troops in Transnistria, Russia has had hundreds of peacekeepers in the region since a bloody war between pro-Russian separatists and Moldovan government forces after the 1991 Soviet breakup. “As long as Russia’s peacekeeping mission continues, Moldova is constrained in any military plans and preparations against Transnistria,” Leonid Manakov, the region’s envoy to Moscow, was cited as saying by RIA. “Transnistria has repeatedly applied for an increase in the number of Russian peacekeepers … There is such an option, and it is justified in terms of the worsening security risks,” he was quoted as saying. Moldova’s ties with Russia are currently badly strained and have deteriorated rapidly over the course of Moscow’s full-scale invasion of neighbouring Ukraine, which Chisinau has repeatedly condemned.',\n",
    "    # 'The majority judges held that parliament which is competent to destroy a State cannot be held, on the theory of absolute sovereignty of the States, to be incompetent to acquire by legislation the property owned by the States. Even if the constitution were held to be a Federation and the States regarded qua the Union as sovereign, the power of the Union to legislate in respect of the property situated in the States would remain unrestricted, they held. It shows that the majority judges too believed that it is not incorrect to suggest that States and the Union can be regarded as sovereign together. ',\n",
    "    # 'What appears to militate against the theory regarding the sovereignty of the State is the wide power with which the Parliament is invested to alter the boundaries of States, and even to extinguish the existence of  a State. There is no Constitutional guarantee against alteration of the boundaries of the States. By Article 2 of the Constitution, the Parliament may admit into the Union or establish new States on such terms and conditions as it thinks fit, and by Article 3 the Parliament is by law authorised to form a new State by redistribution of the territory of a State or by uniting two or more States or parts of States or by uniting any territory to a part of any State, increase the area of any State, diminish the area of any State, alter the boundaries of any State, and alter the name of any State',\n",
    "    # 'The majority judges held that there could be no doubt that if the Union did so, it would not be using but abusing its power of acquisition, but the fact that a power is capable of being abused has never been in law a reason for denying its existence, for its existence has to be determined on very different considerations.',\n",
    "    # '',\n",
    "    '',\n",
    "]\n",
    "\n",
    "events_ = []\n",
    "\n",
    "# Loop through the news articles and extract events\n",
    "for article in news_articles:\n",
    "    # Parse the text with spaCy\n",
    "    doc = nlp(article)\n",
    "    \n",
    "    # Extract events using spaCy's entity and dependency parsing\n",
    "    for sent in doc.sents:\n",
    "    \n",
    "        for ent in sent.ents:\n",
    "            if ent.label_ == 'ORG' or ent.label_ == 'PERSON':\n",
    "                # Identify the subject of the sentence\n",
    "                subj = ent.text\n",
    "                print(subj)\n",
    "                verb = None\n",
    "                obj = None\n",
    "                for token in sent:\n",
    "                    if token.dep_ == 'ROOT':\n",
    "                        verb = token.text\n",
    "                    if token.dep_ == 'dobj':\n",
    "                        obj = token.text\n",
    "                # Print the extracted event\n",
    "                if verb and obj:\n",
    "                    if sent not in events_:\n",
    "                      events_.append(sent)\n",
    "                    # print(f'{subj} {verb} {obj}')\n"
   ]
  },
  {
   "cell_type": "code",
   "execution_count": 34,
   "id": "4VRVPIJ9AYJw",
   "metadata": {
    "colab": {
     "base_uri": "https://localhost:8080/"
    },
    "id": "4VRVPIJ9AYJw",
    "outputId": "a3a40feb-d04a-42ec-a23d-3d30b6381c46"
   },
   "outputs": [
    {
     "name": "stdout",
     "output_type": "stream",
     "text": [
      "3\n"
     ]
    }
   ],
   "source": [
    "print(len(events_))\n",
    "strng = []\n",
    "for eventss in events_:\n",
    "  # eventss = (eventss).astype(str)\n",
    "  strng.append(''.join(eventss.text))\n"
   ]
  },
  {
   "cell_type": "code",
   "execution_count": 35,
   "id": "fP-iNWl7Eq4c",
   "metadata": {
    "colab": {
     "base_uri": "https://localhost:8080/"
    },
    "id": "fP-iNWl7Eq4c",
    "outputId": "03bd03d0-ab28-4b83-86e1-7d552dca20c6"
   },
   "outputs": [
    {
     "name": "stderr",
     "output_type": "stream",
     "text": [
      "100%|██████████| 3/3 [00:00<00:00, 48.82it/s]"
     ]
    },
    {
     "name": "stdout",
     "output_type": "stream",
     "text": [
      "0\n",
      "1\n",
      "2\n"
     ]
    },
    {
     "name": "stderr",
     "output_type": "stream",
     "text": [
      "\n"
     ]
    }
   ],
   "source": [
    "pred_vecs = {}\n",
    "pred_docs = []\n",
    "for index, description in enumerate(tqdm(strng)):\n",
    "    print(index)\n",
    "    doc = nlp(description)\n",
    "    pred_docs.append(doc)\n",
    "    pred_vecs[index] = doc.vector\n",
    "\n",
    "vectors_c = list(pred_vecs.values())\n",
    "vectors_c = np.array(vectors_c)\n",
    "# classifier results = dbscan.fit_predict(vectors_c)\n"
   ]
  },
  {
   "cell_type": "code",
   "execution_count": 36,
   "id": "3Ys-q2E0KDvd",
   "metadata": {
    "colab": {
     "base_uri": "https://localhost:8080/"
    },
    "id": "3Ys-q2E0KDvd",
    "outputId": "cddad696-34b3-43e6-eb7e-61c90c87f9d0"
   },
   "outputs": [
    {
     "name": "stdout",
     "output_type": "stream",
     "text": [
      "(3, 96)\n"
     ]
    }
   ],
   "source": [
    "print(vectors_c.shape)"
   ]
  },
  {
   "cell_type": "code",
   "execution_count": 37,
   "id": "eOkdCiECHR5m",
   "metadata": {
    "id": "eOkdCiECHR5m"
   },
   "outputs": [],
   "source": [
    "def dbscan_predict(model, X):\n",
    "\n",
    "    nr_samples = X.shape[0]\n",
    "    # print(nr_samples)\n",
    "    y_new = np.ones(shape=nr_samples, dtype=int) * -1\n",
    "\n",
    "    for i in range(nr_samples):\n",
    "        diff = model.components_ - X[i, :]  # NumPy broadcasting\n",
    "\n",
    "        dist = np.linalg.norm(diff, axis=1)  # Euclidean distance\n",
    "\n",
    "        shortest_dist_idx = np.argmin(dist)\n",
    "\n",
    "        if dist[shortest_dist_idx] < model.eps:\n",
    "            y_new[i] = model.labels_[model.core_sample_indices_[shortest_dist_idx]]\n",
    "\n",
    "    return y_new"
   ]
  },
  {
   "cell_type": "code",
   "execution_count": 38,
   "id": "SPUlfJotH-fu",
   "metadata": {
    "id": "SPUlfJotH-fu"
   },
   "outputs": [],
   "source": [
    "output = dbscan_predict(dbscan,vectors_c)"
   ]
  },
  {
   "cell_type": "code",
   "execution_count": 39,
   "id": "dBtXWObCJJFw",
   "metadata": {
    "id": "dBtXWObCJJFw"
   },
   "outputs": [],
   "source": [
    "prediction_results = pd.DataFrame({\n",
    "    'desc': strng, \n",
    "    'label': output\n",
    "})"
   ]
  },
  {
   "cell_type": "code",
   "execution_count": 40,
   "id": "-DtJ1uNwLMxl",
   "metadata": {
    "colab": {
     "base_uri": "https://localhost:8080/",
     "height": 143
    },
    "id": "-DtJ1uNwLMxl",
    "outputId": "db86469b-1b54-4f98-c3bf-b05c9119a041"
   },
   "outputs": [
    {
     "data": {
      "text/html": [
       "\n",
       "  <div id=\"df-e8613016-cc98-49f9-89c2-c98d779a553b\">\n",
       "    <div class=\"colab-df-container\">\n",
       "      <div>\n",
       "<style scoped>\n",
       "    .dataframe tbody tr th:only-of-type {\n",
       "        vertical-align: middle;\n",
       "    }\n",
       "\n",
       "    .dataframe tbody tr th {\n",
       "        vertical-align: top;\n",
       "    }\n",
       "\n",
       "    .dataframe thead th {\n",
       "        text-align: right;\n",
       "    }\n",
       "</style>\n",
       "<table border=\"1\" class=\"dataframe\">\n",
       "  <thead>\n",
       "    <tr style=\"text-align: right;\">\n",
       "      <th></th>\n",
       "      <th>desc</th>\n",
       "      <th>label</th>\n",
       "    </tr>\n",
       "  </thead>\n",
       "  <tbody>\n",
       "    <tr>\n",
       "      <th>0</th>\n",
       "      <td>Moldova’s unrecognised breakaway region of Tra...</td>\n",
       "      <td>-1</td>\n",
       "    </tr>\n",
       "    <tr>\n",
       "      <th>1</th>\n",
       "      <td>Though Moldova does not allow Russia to deploy...</td>\n",
       "      <td>-1</td>\n",
       "    </tr>\n",
       "    <tr>\n",
       "      <th>2</th>\n",
       "      <td>Moldova’s ties with Russia are currently badly...</td>\n",
       "      <td>-1</td>\n",
       "    </tr>\n",
       "  </tbody>\n",
       "</table>\n",
       "</div>\n",
       "      <button class=\"colab-df-convert\" onclick=\"convertToInteractive('df-e8613016-cc98-49f9-89c2-c98d779a553b')\"\n",
       "              title=\"Convert this dataframe to an interactive table.\"\n",
       "              style=\"display:none;\">\n",
       "        \n",
       "  <svg xmlns=\"http://www.w3.org/2000/svg\" height=\"24px\"viewBox=\"0 0 24 24\"\n",
       "       width=\"24px\">\n",
       "    <path d=\"M0 0h24v24H0V0z\" fill=\"none\"/>\n",
       "    <path d=\"M18.56 5.44l.94 2.06.94-2.06 2.06-.94-2.06-.94-.94-2.06-.94 2.06-2.06.94zm-11 1L8.5 8.5l.94-2.06 2.06-.94-2.06-.94L8.5 2.5l-.94 2.06-2.06.94zm10 10l.94 2.06.94-2.06 2.06-.94-2.06-.94-.94-2.06-.94 2.06-2.06.94z\"/><path d=\"M17.41 7.96l-1.37-1.37c-.4-.4-.92-.59-1.43-.59-.52 0-1.04.2-1.43.59L10.3 9.45l-7.72 7.72c-.78.78-.78 2.05 0 2.83L4 21.41c.39.39.9.59 1.41.59.51 0 1.02-.2 1.41-.59l7.78-7.78 2.81-2.81c.8-.78.8-2.07 0-2.86zM5.41 20L4 18.59l7.72-7.72 1.47 1.35L5.41 20z\"/>\n",
       "  </svg>\n",
       "      </button>\n",
       "      \n",
       "  <style>\n",
       "    .colab-df-container {\n",
       "      display:flex;\n",
       "      flex-wrap:wrap;\n",
       "      gap: 12px;\n",
       "    }\n",
       "\n",
       "    .colab-df-convert {\n",
       "      background-color: #E8F0FE;\n",
       "      border: none;\n",
       "      border-radius: 50%;\n",
       "      cursor: pointer;\n",
       "      display: none;\n",
       "      fill: #1967D2;\n",
       "      height: 32px;\n",
       "      padding: 0 0 0 0;\n",
       "      width: 32px;\n",
       "    }\n",
       "\n",
       "    .colab-df-convert:hover {\n",
       "      background-color: #E2EBFA;\n",
       "      box-shadow: 0px 1px 2px rgba(60, 64, 67, 0.3), 0px 1px 3px 1px rgba(60, 64, 67, 0.15);\n",
       "      fill: #174EA6;\n",
       "    }\n",
       "\n",
       "    [theme=dark] .colab-df-convert {\n",
       "      background-color: #3B4455;\n",
       "      fill: #D2E3FC;\n",
       "    }\n",
       "\n",
       "    [theme=dark] .colab-df-convert:hover {\n",
       "      background-color: #434B5C;\n",
       "      box-shadow: 0px 1px 3px 1px rgba(0, 0, 0, 0.15);\n",
       "      filter: drop-shadow(0px 1px 2px rgba(0, 0, 0, 0.3));\n",
       "      fill: #FFFFFF;\n",
       "    }\n",
       "  </style>\n",
       "\n",
       "      <script>\n",
       "        const buttonEl =\n",
       "          document.querySelector('#df-e8613016-cc98-49f9-89c2-c98d779a553b button.colab-df-convert');\n",
       "        buttonEl.style.display =\n",
       "          google.colab.kernel.accessAllowed ? 'block' : 'none';\n",
       "\n",
       "        async function convertToInteractive(key) {\n",
       "          const element = document.querySelector('#df-e8613016-cc98-49f9-89c2-c98d779a553b');\n",
       "          const dataTable =\n",
       "            await google.colab.kernel.invokeFunction('convertToInteractive',\n",
       "                                                     [key], {});\n",
       "          if (!dataTable) return;\n",
       "\n",
       "          const docLinkHtml = 'Like what you see? Visit the ' +\n",
       "            '<a target=\"_blank\" href=https://colab.research.google.com/notebooks/data_table.ipynb>data table notebook</a>'\n",
       "            + ' to learn more about interactive tables.';\n",
       "          element.innerHTML = '';\n",
       "          dataTable['output_type'] = 'display_data';\n",
       "          await google.colab.output.renderOutput(dataTable, element);\n",
       "          const docLink = document.createElement('div');\n",
       "          docLink.innerHTML = docLinkHtml;\n",
       "          element.appendChild(docLink);\n",
       "        }\n",
       "      </script>\n",
       "    </div>\n",
       "  </div>\n",
       "  "
      ],
      "text/plain": [
       "                                                desc  label\n",
       "0  Moldova’s unrecognised breakaway region of Tra...     -1\n",
       "1  Though Moldova does not allow Russia to deploy...     -1\n",
       "2  Moldova’s ties with Russia are currently badly...     -1"
      ]
     },
     "execution_count": 40,
     "metadata": {},
     "output_type": "execute_result"
    }
   ],
   "source": [
    "prediction_results.head()"
   ]
  }
 ],
 "metadata": {
  "colab": {
   "provenance": []
  },
  "kernelspec": {
   "display_name": "Python 3",
   "language": "python",
   "name": "python3"
  },
  "language_info": {
   "codemirror_mode": {
    "name": "ipython",
    "version": 3
   },
   "file_extension": ".py",
   "mimetype": "text/x-python",
   "name": "python",
   "nbconvert_exporter": "python",
   "pygments_lexer": "ipython3",
   "version": "3.8.0"
  }
 },
 "nbformat": 4,
 "nbformat_minor": 5
}
