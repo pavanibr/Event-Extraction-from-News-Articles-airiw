{
  "cells": [
    {
      "cell_type": "code",
      "execution_count": 37,
      "id": "received-vertex",
      "metadata": {
        "colab": {
          "base_uri": "https://localhost:8080/"
        },
        "id": "received-vertex",
        "outputId": "350492c0-43bd-48f9-8ee0-58e7c2bb75eb"
      },
      "outputs": [
        {
          "name": "stdout",
          "output_type": "stream",
          "text": [
            "Requirement already satisfied: newsapi-python in /Users/pavanibr/.pyenv/versions/3.9.6/lib/python3.9/site-packages (0.2.7)\n",
            "Requirement already satisfied: requests<3.0.0 in /Users/pavanibr/.pyenv/versions/3.9.6/lib/python3.9/site-packages (from newsapi-python) (2.31.0)\n",
            "Requirement already satisfied: idna<4,>=2.5 in /Users/pavanibr/.pyenv/versions/3.9.6/lib/python3.9/site-packages (from requests<3.0.0->newsapi-python) (3.7)\n",
            "Requirement already satisfied: charset-normalizer<4,>=2 in /Users/pavanibr/.pyenv/versions/3.9.6/lib/python3.9/site-packages (from requests<3.0.0->newsapi-python) (3.3.2)\n",
            "Requirement already satisfied: certifi>=2017.4.17 in /Users/pavanibr/.pyenv/versions/3.9.6/lib/python3.9/site-packages (from requests<3.0.0->newsapi-python) (2024.2.2)\n",
            "Requirement already satisfied: urllib3<3,>=1.21.1 in /Users/pavanibr/.pyenv/versions/3.9.6/lib/python3.9/site-packages (from requests<3.0.0->newsapi-python) (2.2.1)\n",
            "\u001b[33mWARNING: You are using pip version 21.1.3; however, version 24.0 is available.\n",
            "You should consider upgrading via the '/Users/pavanibr/.pyenv/versions/3.9.6/bin/python3.9 -m pip install --upgrade pip' command.\u001b[0m\n"
          ]
        }
      ],
      "source": [
        "!pip3 install newsapi-python"
      ]
    },
    {
      "cell_type": "code",
      "execution_count": 38,
      "id": "guilty-mobility",
      "metadata": {
        "id": "guilty-mobility"
      },
      "outputs": [],
      "source": [
        "# !python3 -m spacy download en_core_web_lg"
      ]
    },
    {
      "cell_type": "code",
      "execution_count": 39,
      "id": "labeled-torture",
      "metadata": {
        "id": "labeled-torture"
      },
      "outputs": [],
      "source": [
        "from tqdm import tqdm\n",
        "import pandas as pd\n",
        "import numpy as np\n",
        "from newsapi import NewsApiClient\n",
        "import nltk\n",
        "from nltk.tokenize import word_tokenize\n",
        "import string\n",
        "from nltk.corpus import stopwords\n",
        "import spacy\n",
        "from sklearn.cluster import DBSCAN\n",
        "import matplotlib.pyplot as plt\n",
        "import seaborn as sns\n",
        "nlp = spacy.load('en_core_web_sm')"
      ]
    },
    {
      "cell_type": "markdown",
      "id": "C6SV1Pv_naHy",
      "metadata": {
        "id": "C6SV1Pv_naHy"
      },
      "source": []
    },
    {
      "cell_type": "code",
      "execution_count": 40,
      "id": "disciplinary-multimedia",
      "metadata": {
        "id": "disciplinary-multimedia"
      },
      "outputs": [],
      "source": [
        "df = pd.read_csv('news dataset.csv', usecols=range(1, 3))"
      ]
    },
    {
      "cell_type": "code",
      "execution_count": 41,
      "id": "american-formula",
      "metadata": {
        "id": "american-formula"
      },
      "outputs": [],
      "source": [
        "df.drop_duplicates('description', inplace=True)"
      ]
    },
    {
      "cell_type": "code",
      "execution_count": 42,
      "id": "polish-bidding",
      "metadata": {
        "id": "polish-bidding"
      },
      "outputs": [],
      "source": [
        "descriptions = df['description'].values"
      ]
    },
    {
      "cell_type": "code",
      "execution_count": 43,
      "id": "exterior-geneva",
      "metadata": {
        "id": "exterior-geneva"
      },
      "outputs": [],
      "source": [
        "def pre_process_text(text):\n",
        "\n",
        "    tokens = word_tokenize(text)\n",
        "    # convert to lower case\n",
        "    tokens = [w.lower() for w in tokens]\n",
        "    # remove punctuation from each word\n",
        "\n",
        "    table = str.maketrans('', '', string.punctuation)\n",
        "    stripped = [w.translate(table) for w in tokens]\n",
        "    # remove remaining tokens that are not alphabetic\n",
        "    words = [word for word in stripped if word.isalpha()]\n",
        "    # filter out stop words\n",
        "\n",
        "    stop_words = set(stopwords.words('english'))\n",
        "    words = [w for w in words if not w in stop_words]\n",
        "    return words\n",
        "  \n",
        "\n",
        "def ner_tagging(text):\n",
        "    tokens = word_tokenize(text)\n",
        "    # convert to lower case\n",
        "    tokens = [w.lower() for w in tokens]\n",
        "    table = str.maketrans('', '', string.punctuation)\n",
        "    stripped = [w.translate(table) for w in tokens]\n",
        "\n",
        "    words = [word for word in stripped if word.isalpha()]\n",
        "\n",
        "    doc = nlp(text)\n",
        "    stop_words = set(stopwords.words('english'))\n",
        "    words = [w for w in words if not w in stop_words]\n",
        "    return words\n"
      ]
    },
    {
      "cell_type": "code",
      "execution_count": 44,
      "id": "explicit-laundry",
      "metadata": {
        "colab": {
          "base_uri": "https://localhost:8080/"
        },
        "id": "explicit-laundry",
        "outputId": "c82c68bf-461c-4feb-c12e-6d9a1b95ed38"
      },
      "outputs": [
        {
          "name": "stderr",
          "output_type": "stream",
          "text": [
            "[nltk_data] Downloading package punkt to /Users/pavanibr/nltk_data...\n",
            "[nltk_data]   Package punkt is already up-to-date!\n",
            "[nltk_data] Downloading package stopwords to\n",
            "[nltk_data]     /Users/pavanibr/nltk_data...\n",
            "[nltk_data]   Package stopwords is already up-to-date!\n",
            "100%|██████████| 2128/2128 [03:45<00:00,  9.45it/s]\n"
          ]
        }
      ],
      "source": [
        "import nltk\n",
        "nltk.download('punkt')\n",
        "nltk.download('stopwords')\n",
        "processed_descriptions = []\n",
        "triggered_events = []\n",
        "for description in tqdm(descriptions):\n",
        "    processed_descriptions.append(' '.join(pre_process_text(description)))\n",
        "\n",
        "# Loop through the news articles and extract events\n",
        "# for article in news_articles:\n",
        "    # Parse the text with spaCy\n",
        "    doc = nlp(description)\n",
        "    \n",
        "    # Extract events using spaCy's entity and dependency parsing\n",
        "    for sent in doc.sents:\n",
        "        for ent in sent.ents:\n",
        "            if ent.label_ == 'ORG' or ent.label_ == 'PERSON':\n",
        "                # Identify the subject of the sentence\n",
        "                subj = ent.text\n",
        "                # print(subj)\n",
        "                verb = None\n",
        "                obj = None\n",
        "                for token in sent:\n",
        "                    if token.dep_ == 'ROOT':\n",
        "                        verb = token.text\n",
        "                    if token.dep_ == 'dobj':\n",
        "                        obj = token.text\n",
        "                # Print the extracted event\n",
        "                if verb and obj:\n",
        "                    if sent not in triggered_events:\n",
        "                      triggered_events.append(sent)"
      ]
    },
    {
      "cell_type": "code",
      "execution_count": 45,
      "id": "NVJhiOgQCsrC",
      "metadata": {
        "colab": {
          "base_uri": "https://localhost:8080/"
        },
        "id": "NVJhiOgQCsrC",
        "outputId": "2b5a4706-dd7a-49c6-a478-f68c3f335a80"
      },
      "outputs": [
        {
          "name": "stdout",
          "output_type": "stream",
          "text": [
            "2913  and  2128\n",
            "<class 'str'>\n"
          ]
        }
      ],
      "source": [
        "print(len(triggered_events),\" and \",len(processed_descriptions))\n",
        "print(type(processed_descriptions[0]))\n",
        "\n",
        "\n"
      ]
    },
    {
      "cell_type": "code",
      "execution_count": 46,
      "id": "preliminary-customs",
      "metadata": {
        "colab": {
          "base_uri": "https://localhost:8080/"
        },
        "id": "preliminary-customs",
        "outputId": "4d641d49-c427-488c-f108-80fdf4d6e7e5"
      },
      "outputs": [
        {
          "name": "stderr",
          "output_type": "stream",
          "text": [
            "100%|██████████| 2128/2128 [02:05<00:00, 16.93it/s]\n"
          ]
        }
      ],
      "source": [
        "nlp = spacy.load('en_core_web_sm')\n",
        "\n",
        "sent_vecs = {}\n",
        "docs = []\n",
        "\n",
        "for index, description in enumerate(tqdm(processed_descriptions)):\n",
        "    doc = nlp(description)\n",
        "    docs.append(doc)\n",
        "    sent_vecs[index] = doc.vector"
      ]
    },
    {
      "cell_type": "code",
      "execution_count": 47,
      "id": "checked-verse",
      "metadata": {
        "id": "checked-verse"
      },
      "outputs": [],
      "source": [
        "vectors = list(sent_vecs.values())"
      ]
    },
    {
      "cell_type": "code",
      "execution_count": 48,
      "id": "japanese-ceiling",
      "metadata": {
        "id": "japanese-ceiling"
      },
      "outputs": [],
      "source": [
        "vectors = np.array(vectors)"
      ]
    },
    {
      "cell_type": "code",
      "execution_count": 49,
      "id": "political-africa",
      "metadata": {
        "colab": {
          "base_uri": "https://localhost:8080/"
        },
        "id": "political-africa",
        "outputId": "fa2f2c70-75a2-4137-995b-0c91d3e59830"
      },
      "outputs": [
        {
          "name": "stderr",
          "output_type": "stream",
          "text": [
            "100%|██████████| 500/500 [00:40<00:00, 12.34it/s]\n"
          ]
        }
      ],
      "source": [
        "labels_results = {}\n",
        "for i in tqdm(np.arange(0.001, 1, 0.002)):\n",
        "    dbscan = DBSCAN(eps=i, min_samples=5, metric='cosine').fit(vectors)\n",
        "    labels_results[i] = len(pd.Series(dbscan.labels_).value_counts())"
      ]
    },
    {
      "cell_type": "code",
      "execution_count": 50,
      "id": "virtual-procedure",
      "metadata": {
        "id": "virtual-procedure"
      },
      "outputs": [],
      "source": [
        "dbscan = DBSCAN(eps=0.015, min_samples=5, metric='cosine').fit(vectors)"
      ]
    },
    {
      "cell_type": "code",
      "execution_count": 51,
      "id": "macro-durham",
      "metadata": {
        "id": "macro-durham"
      },
      "outputs": [],
      "source": [
        "results = pd.DataFrame({\n",
        "    'desc': processed_descriptions, \n",
        "    'label': dbscan.labels_\n",
        "})"
      ]
    },
    {
      "cell_type": "code",
      "execution_count": 52,
      "id": "weighted-bargain",
      "metadata": {
        "colab": {
          "base_uri": "https://localhost:8080/"
        },
        "id": "weighted-bargain",
        "outputId": "ed2f445d-8f7a-43ba-fce3-2ba807b5dd27"
      },
      "outputs": [
        {
          "data": {
            "text/plain": [
              "label\n",
              "-1    1711\n",
              " 0     400\n",
              " 1      12\n",
              " 2       5\n",
              "Name: count, dtype: int64"
            ]
          },
          "execution_count": 52,
          "metadata": {},
          "output_type": "execute_result"
        }
      ],
      "source": [
        "results['label'].value_counts()"
      ]
    },
    {
      "cell_type": "code",
      "execution_count": 53,
      "id": "swedish-fancy",
      "metadata": {
        "colab": {
          "base_uri": "https://localhost:8080/"
        },
        "id": "swedish-fancy",
        "outputId": "cf646dc3-1ebb-4691-e6c3-d36274bc24c0",
        "scrolled": false
      },
      "outputs": [
        {
          "name": "stdout",
          "output_type": "stream",
          "text": [
            "chelsea sack mutu chelsea sacked adrian mutu failed drugs test yearold tested positive banned substance later denied cocaine october chelsea decided write possible transfer fee mutu signing parma last season may face twoyear suspension statement chelsea explaining decision readwe want make clear chelsea zero tolerance policy towards drugs mutu scored six goals first five games arriving stamford bridge form went decline frozen coach jose mourinho chelseas statement added applies performanceenhancing drugs socalled recreational drugs place club sport coming decision case chelsea believed clubs social responsibility fans players employees stakeholders football regarding drugs important major financial considerations company player takes drugs breaches contract club well football association rules club totally supports fa strong action drugs cases fifas disciplinary code stipulates first doping offence followed sixmonth ban sports world governing body reiterated stance mutus failed drugs test maintaining matter domestic sporting authorities fifa position make comment matter english fa informed us disciplinary decision relevant information associated said fifa spokesman chelseas move backing drugtesting expert michelle verroken verroken former director drugfree sport uk sport insists blues right sack mutu enhanced reputation chelsea saying quite clearly rest players fans situation prepared tolerate difficult decision expensive decision terms contract breached decision could make clear stance chelsea given strong boost reputation club emerged mutu failed drugs test october although initially reported banned substance question cocaine romanian international later suggested substance designed enhance sexual performance football association yet act mutus failed drugs test refuses discuss case\n",
            "\n",
            "man utd exeter test manchester united avoided fa cup upset edging past exeter city third round replay cristiano ronaldo scored opener slipping ball paul jones legs nine minutes united wasted host chances make safe jones made great saves wayne rooney put tie beyond doubt late cool finish exeter chances sean devine twice volleying wide andrew taylor forcing tim howard save united boss sir alex ferguson taking chances draw first game handed starts paul scholes ryan well ronaldo rooney exeter began brightly devine steve flack seeing plenty ball take united long assert authority hosts soon found goal scholes played lovely pass ronaldo lefthand side sixyard box portuguese winger slid ball legs jones open scoring united sensed chance finish tie contest early ronaldo blazed jones saved well scholes rooney visitors pressure incessant rooney another shot blocked ronaldo slammed well bar good position break giggs golden chance double advantage welshman dragged leftfoot effort badly wide yards stoppage time exeter created best chance alex jeannin swung cross left devine managed flick goalwards ball flew wide howards goal grecians came break determined fashion howard show safe hands collect two searching crosses united box rooney looked like might sealed result turn shot ball stuck st james park mud jones raced back gather goalline moments later devine chance make hero could volley jeannins brilliant cross wide howards goal left unmarked six yards rooney completely messed freekick yards taylor showed done stunning drive distance forcing flying stop howard home crowd baying goal get ball net devines low effort ruled obvious offside persistent rooney eventually rounded jones three minutes go slotted empty net book home tie middlesbrough fourth round jones hiley sawyer gaia jeannin moxey taylor martin ampadu afful clay flack edwards devine subs used rice todd ampadu clay howard phil neville gary neville oshea fortune giggs saha miller fletcher scholes djembadjemba silvestre ronaldo rooney subs used ricardo bellion ronaldo rooney p dowd staffordshire\n",
            "\n",
            "hearts livingston hearts wrapped scottish cup quarterfinal tie livingston two goals first minutes lee miller scored inside opening seconds heading colin meldrum net jamie mcallister free kick mcallister scored second met saul mikoliunas cross back post put game beyond visitors craig easton headed controversial goal hour hearts held opening goal came gus bahoken clumsily fouled miller yards goal mcallister floated free kick livi box miller outjumped static visiting defence loop header yards meldrum minutes clock home side doubled lead mikoliunas sprinted right crossed back post mcallister raced head past meldrum moments later miller came close grabbing second firsttime drive yards skimmed bar mcallister picked pass stephen simmons drove angled shot yards narrowly past meldrums far post impressive mikoliunas twice went close half time low drive comfortably gathered meldrum curled leftfooted shot past keepers righthand post livi manager richard gough made three changes interval bringing defender goran stanic midfielder gabor vincze striker ferenc horvath bahoken derek lilley mark wilson opening stages second period little changed however west lothian side gave lifeline controversial goal eric deloumeaux sent jason dair away right tried give ball mcpake looked offside position livi striker ignored pass however dair ran played easton back post headed home close range home side called offside mcpake referee alan freeland ignored claims pointed centrecircle livi went equaliser th minute burton obrien hauled back edge box neil macfarlane dair sent shot inches wide gordon webster miller hartley neilson mcallister simmons macfarlane berra burchill wyness mikoliunas cesnauskis wallace moilanen kizys berra webster miller mcallister meldrum mcnamee bahoken stanic deloumeaux strong dair easton mark wilson vincze lilley horvath obrien mcpake mckenzie hand vincze horvath easton freeland\n",
            "\n",
            "irish athletics year wont remembered one irish athletics great years year began optimism invariably unaccountably seems herald upcoming olympiad come late august hot days magnificent stadium athens told us true strength irish athletics accurate lack sonia osullivans olympic farewell apart little stir emotions irish athletics watchers disastrous buildup games shouldnt surprised start year osullivan earmarked irelands best medal prospect turned walker gillian never even made start line injury less week olympics sport rocked news hope cathal lombard tested banned substance epo lombards shattering mark carrolls national record april already set tongues wagging even cynical observers surprised rumbled irish sports council sting operation corkman quickly held hands admission promptly handed twoyear ban sport back preolympic ranch greece must seemed things couldnt got worse nearly walker jamie costin lucky escape life involved car crash near athens track field action began athens familiar pattern underachievement emerged although alistair craggs performance athlete european nation qualify final offer hope future beloved sonia scraped womens k final fastest loser couple days country attempted delude believing might medal shakeup happened went back door early final although nothing undignified way insisted finishing race minute behind winner meseret defar later transpired sonia suffering stomach bug hours final although typically cobhwoman played effects illness amazingly back action couple weeks later beating worldclass field flora lite k road race london major championship days may unlikely seen last competition least sonia managed make athens start year several northern ireland athletes genuine hopes qualifying games come august outofform injured paul brizzel lone standard bearer province ballymena man gave lash achilles problem bad lane draw meant time early exit james mcilroy gareth turnbull zoe brown paul mckee content watching athens action television screens hope mcilroy never got near best summer fourth place british trials effectively ended hopes making plane injuryplagued turnbull gamely travelled round europe search qualifying mark best could achieve missing several months training previous winter lingering hamstring probem virus wrecked mckees athens ambitions turnbull deserve slice better fortune pole vaulter brown hoped vote confidence british selectors achieved athens b standard call never came summer ended stalwarts catherina mckiernan dermot donnelly hung competitive spikes mckiernan candidly acknowledge time crept several injuryravaged years donnelly annadale striders teammates later suffered tragedy friend clubman andy campbell found dead home december large turnout athleticsloving folk turned west belfast offer respects campbell family andys many friends death put years athletics happenings sharp perspective\n",
            "\n",
            "osullivan keeps powder dry gunning glory ultimate success keeping gunpowder dry essential ireland coach eddie osullivan appears done quite successfully runup seasons six nations championship decreed world cup players decent conditioning period year became reality end last summer week period start season may annoyed scottish particularly welsh cousins huffed puffed disrespect apparently shown celtic league say nothing mike ruddock poaching eight dragons side faced leinster sunday like osullivan well within rights particularly talking national side pride goes along irfu thrown weight behind osullivan must glad main centrallycontrolled contracts bar keith gleeson returning broken leg everyone osullivans squad fit fresh standing oche ready launch seasons campaign doubt whether osullivan going gloat handling players sort person however may look overworked injuryhit england wales france squads whose players overworked pat back foresight still question turning transferring freshness positive results referee signals start game already ireland earmarked hot favourites many quarters go whole hog season first grand slam since karl mullens led team clean sweep england france visiting lansdowne road last time old darling pulled everything looks perfectly placed days yore frightened life irishman burden great expectations ireland crumpled take triple crownwinning side mick doyle expected ante grand slam second irelands history happened whitewashed see ireland sport love downsized go prove point contrary nature beast osullivans side capable proving salient point season first triple crown years live success take step ladder osullivan kept faith displayed loyalty players repaid spades come old dogs squad come seasons championship different box tricks new verve succeed ireland indeed succeed whisper\n",
            "\n",
            "newcastle bolton kieron dyer smashed home winner end boltons game unbeaten run lee bowyer put newcastle ahead fed stephen carr right flank sprinted area power home header resultant cross wanderers hit back stelios giannakopoulos ended fluid passing move wellstruck volley dyer last word game chances pouncing loose ball alan shearers shot blocked firing top corner neither side lacked urgency early stages game plenty tackles flying opportunities front goal harder come bolton keeper jussi jaaskelainen make two saves quick succession midway firsthalf keeping shearers low shot dyers closerange header goalmouth action note almost nothing magpies took lead minutes bowyer found space neat turn halfway line striding forward picked carr right continued run perfect timing made way box met carrs cross downward header far corner bolton produced little going forward point responded well level within six minutes thanks smart finish giannakopoulos jayjay okocha twisted turned edge area neat exchange passes involving kevin davies gary speed greek striker found bottom corner firsttime strike magpies opened halftime davies set giannakopoulos space given block near post home side survived retaken lead first meaningful attack second half fernando hierro cynically chopped dyer edge area midfielder clean veteran defender escaped booking defenders nearby resultant freekick laurent robert curled ball wide bolton creating little going forward seemed content frustrate magpies strategy seemed working th minute alan shearers snapshot charged dyer reacted first smash ball past despairing jaaskelainen six yards bolton boss sam allardyce bitterly disappointed result probably disappointed secondhalf performance first half put lot pressure goal matched quality thought would lift us might tired playing lot games unfortunately battle second half allowed heap much pressure us end cracked newcastle boss graeme souness deserved win really good second half bolton difficult side play match physically first played football slow first minutes looked bit tired got going scoreline flattered could one two goals newcastle given carr boumsong bramble babayaro dyer faye bowyer robert jenas ameobi shearer subs used butt harper milner hughes goals bowyer dyer bolton jaaskelainen hunt fadiga ngotty ben haim candela giannakopoulos okocha vaz te hierro campo speed gardner davies subs used jaidi poole booked ben haim hierro goals giannakopoulos att ref dunn gloucestershire\n",
            "\n"
          ]
        }
      ],
      "source": [
        "for index in results[results['label'] == 0].index[:6]:\n",
        "    print(results.loc[index]['desc'],end='\\n\\n')\n",
        "    # print('....')"
      ]
    },
    {
      "cell_type": "code",
      "execution_count": 54,
      "id": "zaT867JjMRYt",
      "metadata": {
        "colab": {
          "base_uri": "https://localhost:8080/",
          "height": 206
        },
        "id": "zaT867JjMRYt",
        "outputId": "52597b98-36d6-43b6-d204-f689ce4c2504"
      },
      "outputs": [
        {
          "data": {
            "text/html": [
              "<div>\n",
              "<style scoped>\n",
              "    .dataframe tbody tr th:only-of-type {\n",
              "        vertical-align: middle;\n",
              "    }\n",
              "\n",
              "    .dataframe tbody tr th {\n",
              "        vertical-align: top;\n",
              "    }\n",
              "\n",
              "    .dataframe thead th {\n",
              "        text-align: right;\n",
              "    }\n",
              "</style>\n",
              "<table border=\"1\" class=\"dataframe\">\n",
              "  <thead>\n",
              "    <tr style=\"text-align: right;\">\n",
              "      <th></th>\n",
              "      <th>desc</th>\n",
              "      <th>label</th>\n",
              "    </tr>\n",
              "  </thead>\n",
              "  <tbody>\n",
              "    <tr>\n",
              "      <th>0</th>\n",
              "      <td>chelsea sack mutu chelsea sacked adrian mutu f...</td>\n",
              "      <td>0</td>\n",
              "    </tr>\n",
              "    <tr>\n",
              "      <th>1</th>\n",
              "      <td>record fails lift lacklustre meet yelena isinb...</td>\n",
              "      <td>-1</td>\n",
              "    </tr>\n",
              "    <tr>\n",
              "      <th>2</th>\n",
              "      <td>edu describes tunnel fracas arsenals edu lifte...</td>\n",
              "      <td>-1</td>\n",
              "    </tr>\n",
              "    <tr>\n",
              "      <th>3</th>\n",
              "      <td>ogara revels ireland victory ireland flyhalf r...</td>\n",
              "      <td>-1</td>\n",
              "    </tr>\n",
              "    <tr>\n",
              "      <th>4</th>\n",
              "      <td>unclear future striker baros liverpool forward...</td>\n",
              "      <td>-1</td>\n",
              "    </tr>\n",
              "  </tbody>\n",
              "</table>\n",
              "</div>"
            ],
            "text/plain": [
              "                                                desc  label\n",
              "0  chelsea sack mutu chelsea sacked adrian mutu f...      0\n",
              "1  record fails lift lacklustre meet yelena isinb...     -1\n",
              "2  edu describes tunnel fracas arsenals edu lifte...     -1\n",
              "3  ogara revels ireland victory ireland flyhalf r...     -1\n",
              "4  unclear future striker baros liverpool forward...     -1"
            ]
          },
          "execution_count": 54,
          "metadata": {},
          "output_type": "execute_result"
        }
      ],
      "source": [
        "results.head()"
      ]
    },
    {
      "cell_type": "code",
      "execution_count": 55,
      "id": "CdpANTq5_eMZ",
      "metadata": {
        "colab": {
          "base_uri": "https://localhost:8080/"
        },
        "id": "CdpANTq5_eMZ",
        "outputId": "89d0711f-bfe6-49c9-ed39-76151c9bf73e"
      },
      "outputs": [
        {
          "name": "stdout",
          "output_type": "stream",
          "text": [
            "RIA news agency\n",
            "Moldova\n",
            "Moldovan\n",
            "Transnistria\n",
            "Leonid Manakov\n",
            "RIA\n",
            "Transnistria\n",
            "Moldova\n",
            "Chisinau\n"
          ]
        }
      ],
      "source": [
        "import spacy\n",
        "\n",
        "nlp = spacy.load('en_core_web_sm')\n",
        "\n",
        "news_articles = [\n",
        "    'Moldova’s unrecognised breakaway region of Transnistria says it wants Moscow to bulk up its small contingent of peacekeepers because of what it called growing security risks, Russia’s state-owned RIA news agency reported. Though Moldova does not allow Russia to deploy new troops in Transnistria, Russia has had hundreds of peacekeepers in the region since a bloody war between pro-Russian separatists and Moldovan government forces after the 1991 Soviet breakup. “As long as Russia’s peacekeeping mission continues, Moldova is constrained in any military plans and preparations against Transnistria,” Leonid Manakov, the region’s envoy to Moscow, was cited as saying by RIA. “Transnistria has repeatedly applied for an increase in the number of Russian peacekeepers … There is such an option, and it is justified in terms of the worsening security risks,” he was quoted as saying. Moldova’s ties with Russia are currently badly strained and have deteriorated rapidly over the course of Moscow’s full-scale invasion of neighbouring Ukraine, which Chisinau has repeatedly condemned.',\n",
        "    # 'The majority judges held that parliament which is competent to destroy a State cannot be held, on the theory of absolute sovereignty of the States, to be incompetent to acquire by legislation the property owned by the States. Even if the constitution were held to be a Federation and the States regarded qua the Union as sovereign, the power of the Union to legislate in respect of the property situated in the States would remain unrestricted, they held. It shows that the majority judges too believed that it is not incorrect to suggest that States and the Union can be regarded as sovereign together. ',\n",
        "    # 'What appears to militate against the theory regarding the sovereignty of the State is the wide power with which the Parliament is invested to alter the boundaries of States, and even to extinguish the existence of  a State. There is no Constitutional guarantee against alteration of the boundaries of the States. By Article 2 of the Constitution, the Parliament may admit into the Union or establish new States on such terms and conditions as it thinks fit, and by Article 3 the Parliament is by law authorised to form a new State by redistribution of the territory of a State or by uniting two or more States or parts of States or by uniting any territory to a part of any State, increase the area of any State, diminish the area of any State, alter the boundaries of any State, and alter the name of any State',\n",
        "    # 'The majority judges held that there could be no doubt that if the Union did so, it would not be using but abusing its power of acquisition, but the fact that a power is capable of being abused has never been in law a reason for denying its existence, for its existence has to be determined on very different considerations.',\n",
        "    # '',\n",
        "    '',\n",
        "]\n",
        "\n",
        "events_ = []\n",
        "\n",
        "# Loop through the news articles and extract events\n",
        "for article in news_articles:\n",
        "    # Parse the text with spaCy\n",
        "    doc = nlp(article)\n",
        "    \n",
        "    # Extract events using spaCy's entity and dependency parsing\n",
        "    for sent in doc.sents:\n",
        "    \n",
        "        for ent in sent.ents:\n",
        "            if ent.label_ == 'ORG' or ent.label_ == 'PERSON':\n",
        "                # Identify the subject of the sentence\n",
        "                subj = ent.text\n",
        "                print(subj)\n",
        "                verb = None\n",
        "                obj = None\n",
        "                for token in sent:\n",
        "                    if token.dep_ == 'ROOT':\n",
        "                        verb = token.text\n",
        "                    if token.dep_ == 'dobj':\n",
        "                        obj = token.text\n",
        "                # Print the extracted event\n",
        "                if verb and obj:\n",
        "                    if sent not in events_:\n",
        "                      events_.append(sent)\n",
        "                    # print(f'{subj} {verb} {obj}')\n"
      ]
    },
    {
      "cell_type": "code",
      "execution_count": 56,
      "id": "4VRVPIJ9AYJw",
      "metadata": {
        "colab": {
          "base_uri": "https://localhost:8080/"
        },
        "id": "4VRVPIJ9AYJw",
        "outputId": "a3a40feb-d04a-42ec-a23d-3d30b6381c46"
      },
      "outputs": [
        {
          "name": "stdout",
          "output_type": "stream",
          "text": [
            "3\n"
          ]
        }
      ],
      "source": [
        "print(len(events_))\n",
        "strng = []\n",
        "for eventss in events_:\n",
        "  # eventss = (eventss).astype(str)\n",
        "  strng.append(''.join(eventss.text))\n"
      ]
    },
    {
      "cell_type": "code",
      "execution_count": 57,
      "id": "fP-iNWl7Eq4c",
      "metadata": {
        "colab": {
          "base_uri": "https://localhost:8080/"
        },
        "id": "fP-iNWl7Eq4c",
        "outputId": "03bd03d0-ab28-4b83-86e1-7d552dca20c6"
      },
      "outputs": [
        {
          "name": "stderr",
          "output_type": "stream",
          "text": [
            "100%|██████████| 3/3 [00:00<00:00, 76.80it/s]"
          ]
        },
        {
          "name": "stdout",
          "output_type": "stream",
          "text": [
            "0\n",
            "1\n",
            "2\n"
          ]
        },
        {
          "name": "stderr",
          "output_type": "stream",
          "text": [
            "\n"
          ]
        }
      ],
      "source": [
        "pred_vecs = {}\n",
        "pred_docs = []\n",
        "for index, description in enumerate(tqdm(strng)):\n",
        "    print(index)\n",
        "    doc = nlp(description)\n",
        "    pred_docs.append(doc)\n",
        "    pred_vecs[index] = doc.vector\n",
        "\n",
        "vectors_c = list(pred_vecs.values())\n",
        "vectors_c = np.array(vectors_c)\n",
        "# classifier results = dbscan.fit_predict(vectors_c)\n"
      ]
    },
    {
      "cell_type": "code",
      "execution_count": 58,
      "id": "3Ys-q2E0KDvd",
      "metadata": {
        "colab": {
          "base_uri": "https://localhost:8080/"
        },
        "id": "3Ys-q2E0KDvd",
        "outputId": "cddad696-34b3-43e6-eb7e-61c90c87f9d0"
      },
      "outputs": [
        {
          "name": "stdout",
          "output_type": "stream",
          "text": [
            "(3, 96)\n"
          ]
        }
      ],
      "source": [
        "print(vectors_c.shape)"
      ]
    },
    {
      "cell_type": "code",
      "execution_count": 59,
      "id": "eOkdCiECHR5m",
      "metadata": {
        "id": "eOkdCiECHR5m"
      },
      "outputs": [],
      "source": [
        "def dbscan_predict(model, X):\n",
        "\n",
        "    nr_samples = X.shape[0]\n",
        "    # print(nr_samples)\n",
        "    y_new = np.ones(shape=nr_samples, dtype=int) * -1\n",
        "\n",
        "    for i in range(nr_samples):\n",
        "        diff = model.components_ - X[i, :]  # NumPy broadcasting\n",
        "\n",
        "        dist = np.linalg.norm(diff, axis=1)  # Euclidean distance\n",
        "\n",
        "        shortest_dist_idx = np.argmin(dist)\n",
        "\n",
        "        if dist[shortest_dist_idx] < model.eps:\n",
        "            y_new[i] = model.labels_[model.core_sample_indices_[shortest_dist_idx]]\n",
        "\n",
        "    return y_new"
      ]
    },
    {
      "cell_type": "code",
      "execution_count": 60,
      "id": "SPUlfJotH-fu",
      "metadata": {
        "id": "SPUlfJotH-fu"
      },
      "outputs": [],
      "source": [
        "output = dbscan_predict(dbscan,vectors_c)"
      ]
    },
    {
      "cell_type": "code",
      "execution_count": 61,
      "id": "dBtXWObCJJFw",
      "metadata": {
        "id": "dBtXWObCJJFw"
      },
      "outputs": [],
      "source": [
        "prediction_results = pd.DataFrame({\n",
        "    'desc': strng, \n",
        "    'label': output\n",
        "})"
      ]
    },
    {
      "cell_type": "code",
      "execution_count": 62,
      "id": "c81a5430",
      "metadata": {},
      "outputs": [
        {
          "name": "stdout",
          "output_type": "stream",
          "text": [
            "Cluster 1 Descriptions:\n",
            "scotland v italy sat murrayfield edinburgh saturday february gmt bbc five live website victory azzurri rome last year saw scotland end campaign without victory pressure scotland coach matt williams seeks first six nations victory eighth attempt italy lost opening games home ireland wales travel edinburgh high hopes coach john kirwan warned side must eradicate errors blighted loss wales however risk suffering third successive defeat defeat wales taught us anything level cant make mistakes kirwan said six nations every error make come high price aggressive minutes keep calm every situation display great maturity pitch fundamental keep cool difficult moments key situations game kirwan recalled experienced cristian stoica centre drafted david dal maso openside star flanker mauro bergamasco ruled rest tournament scotland also made two changes simon webster replacing simon danielli wing simon taylor returning first test year injured flanker jason white taylors recovery serious knee injury major boost scottish hopes one worldclass players tournament want team acknowledged williams despite record two victories tests williams insists revelling pressure actually really enjoy seeing cope pressure coach said optimistic despite opening defeats france ireland confident two first games confident beat italy added c paterson webster craig h southwell lamont parks c cusiter smith g bulloch capt g kerr grimes murray taylor j petrie hogg r russell b douglas n hines j dunbar blair g ross b hinshelwood r de marigny mirco bergamasco c stoica masi l nitoglia l orquera troncon lo cicero f ongaro castrogiovanni dellape bortolami capt persico dal maso parisse g intoppa perugini ca del fava orlando p griffen r pedrazzi kp robertson\n",
            "---\n",
            "ireland call uncapped campbell ulster scrumhalf kieran campbell one five uncapped players included irelands rbs six nations squad campbell joined ulster colleagues roger wilson ronan mccormack along connachts bernard jackman munsters shaun payne gordon darcy back injury munster flanker alan quinlan also returns international consideration squad selected purely form lot players put hands coach eddie osullivan told bbc sport kieran campbell one players playing well heineken cup deserves callup big competition departments much others one two players unfortunate miss backrow forwards david wallace victor costello omitted osullivan quinlan wilson simon easterby anthony foley denis leamy johnny oconnor vying three positions david humphreys kevin maggs simon best tommy bowe included ulsters biggest representation training panel quite time munster leinster players squad respectively jackman sole connacht representative four britishbased players also included ulster forward ronan mccormack said totally shocked included im really looking forward said mccormack played guys like brian odriscoll denis hickie back school days leinster know although well great work best ulster byrne leinster r corrigan leinster l cullen leinster easterby llanelli foley munster j hayes munster horan munster b jackman connacht leamy munster e miller leinster r mccormack ulster ocallaghan munster p oconnell munster j oconnor wasps okelly leinster f sheahan munster r wilson ulster quinlan munster bowe ulster k campbell ulster g darcy ulster g dempsey leinster g duffy harlequins g easterby leinster hickie leinster horgan munster horgan leinster humphreys ulster k maggs ulster g murphy leicester b odriscoll leinster r ogara munster payne munster p stringer munster k gleeson leinster howe ulster j kelly munster n mcmillan ulster\n",
            "---\n",
            "ireland v usa sat saturday november lansdowne road dublin gmt irish coach knows repeat record victory states agenda expects real test lansdowne road coach tom billups organised said osullivan ran five tries past french summer take granted guys coming team chomping bit irish lineup shows nine changes team started south africa winger tommy bowe flanker denis leamy making international debuts changes see recalls backs david humphreys kevin maggs guy easterby eric miller marcus horan donnacha ocallaghan frank sheehan returning pack osullivan said players coming opportunity stake claims inclusion argentina november easterby gets rare start scrumhalf humphreys effectively ronan ogaras deputy flyhalf wins th cap got get focus right day said ulster man humphreys us may classed weaker opposition treat respect deserve states lost france last international ranked th world rugby americans made three changes plus one positional switch game july french lock alec parker blindside flanker brian surgener right wing al lakomskis return captain kort schubert cardiff blues shifts number eight schubert eagles player remaining sides meeting four years ago g murphy horgan b odriscoll capt k maggs bowe humphreys g easterby horan f sheahan j hayes ocallaghan p oconnell easterby leamy e miller byrne best l cullen foley p stringer r ogara g dempsey viljoen lakomskis emerick sika fee hercus timoteo macdonald wyatt waasdorp parker klerck surgener petruzzella schubert capt hobson osentowski gouws mounga williams sherman tuipulotu\n",
            "---\n",
            "odriscollgregan lead aid stars irelands brian odriscoll lead northern hemisphere team irb rugby aid match twickenham odriscoll heads starstudded cast contest raise funds tsunami appeal south led george gregan one four wallabies alongside five springboks four blacks including captain tana umaga south african flanker schalk burger shaken leg injury take place starting lineup join fellow springboks john smit cobus visagie victor matfield south pack jacque fourie among centres north side hit withdrawals scotland duo gordon bulloch chris cusiter plus france captain fabien pelous leicesters england centre ollie smith added squad giving opportunity impress lions coach sir clive woodward takes charge north side think fantastic ollie tigers coach john wells told bbc radio leicester probably going weekend week hope clive gets chance see qualities leicester england seeing year woodward also assess potential lions candidates scotland pair simon taylor chris paterson wales scrumhalf dwayne peel ireland lock paul oconnell im looking forward working outstanding players woodward said teams fielding topquality sides really hope rugby public community get behind game raise much money possible deserving cause despite withdrawal wales wing rhys williams required blues celtic league match munster three members six nations squad ceri sweeney john yapp jonathan thomas also play good cause gives players opportunity play best players world said wru general manager steve lewis supporters watch teams train free twickenham friday march woodward put north team paces gmt south side coached former wallabies coach rod macqueen due stadium c paterson scotland b cohen england b odriscoll ireland capt traille france smith england c sweeney wales humphreys ireland peel wales lo cicero italy p de villiers france j yapp wales r ibanez france p oconnell ireland bortolami italy j thomas wales taylor scotland l dallaglio england parisse italy others added c latham australia b lima samoa j fourie sa umaga new zealand bobo fiji mehrtens nz g gregan aus capt c hoeft nz j smit sa c visagie sa maling nz v matfield sa burger sa p waugh aus kefu aus e taukafa tonga e guinazu argentina sititi samoa palepoi samoa rauluni fiji delport sa n\n",
            "---\n",
            "jlo husband plan debut duet singers jennifer lopez husband marc anthony latin pop star perform duet months grammy awards los angeles anthony became lopezs third husband june grammy nominated two year february ceremony also include rendition beatles across universe bono stevie wonder norah jones brian wilson song go sale online raise money tsunami aid effort awards show also feature performances u green day alicia keys kanye west lopez anthony duet likely one biggest talking points anthony born new york puerto rican family reported biggestselling salsa artist time nominated year best latin pop album best salsamerengue album tsunami tribute song also feature alicia keys velvet revolver tim mcgraw fans able download itunes purchase video cbs tv networks site kanye west rapper leads awards nominations perform alongside john legend mavis staples blind boys alabama also tribute ray charles featuring bonnie raitt billy preston celebration southern rock tim mcgraw gretchen wilson lynyrd skynyrd dickie betts elvis bishop ray charles died june seven posthumous nominations alicia keys usher share eight nominations\n",
            "---\n",
            "france v wales sat stade de france paris saturday february gmt bbc radio lw website france may beaten scotland england tedious uninspired throughout matches wales hand played fine rugby made best start since last title also good record stade de france first two games wales made two changes team thrashed italy rome kevin morgan takes injured newportgwent dragons colleague hal luscombe right wing pack neathswansea ospreys forward ryan jones bas brought blindside flank beef wales back row place jonathan thomas wales coach mike ruddock determined team go shells promising start championship graham henry former wales coach said couple years ago bold going france proved right said ruddock great way approach game something endorse players week despite stuttering displays first two games defending champions france also unbeaten underpressure coach bernard laporte made four changes yannick nyanga debutant julien laharrague aurelien rougerie yannick jauzion coming side france criticised absence traditional french flair ground way victory far year captain fabien pelous sees hope horizon get impression getting better said wales different teams beaten hope show proper game j laharrague rougerie jauzion traille c dominici delaigue yachvili marconnet bruno n mas f pelous capt j thion betsen nyanga j bonnaire bourgoin w servat milloud g lamboley harinordoquy p mignoni f michalak jp grandclaude g thomas capt k morgan shanklin g henson williams jones peel g jenkins davies jones b cockbain r sidoli r jones williams owen r mcbryde j yapp j thomas r sowdentaylor g cooper c sweeney r williams\n",
            "---\n",
            "taylor poised scotland return simon taylor named scotland squad saturdays six nations clash italy yearold number eight made scoring return edinburgh weekend first game year capital side taylor suffered knee ligament damage playing ireland dublin six nations championship simon one scotlands truly world class players huge bonus said teammate chris paterson brings whole new dimension us especially defence ability slow opposition ball could key italy involved taylor turned english side saracens recent weeks shortterm loan improve fitness edinburgh action first two weeks seasons six nations taylor played last minutes saracens win northampton minutes friendly south african super side cats scotland coach matt williams due name matchday thursday scotland italy lost opening two six nations games like last seasons encounter italy weekends game could turn battle avoid wooden spoon blair edinburgh craig glasgow c cusiter borders danielli borders di rollo edinburgh henderson glasgow b hinshelwood worcester r lamont glasgow lamont glasgow parks glasgow c paterson edinburgh g ross leeds h southwell edinburgh webster edinburgh r beattie northampton g bulloch glasgow capt b douglas borders j dunbar leeds fullarton saracens grimes newcastle n hines edinburgh hogg edinburgh g kerr leeds n lloyd saracens murray edinburgh j petrie glasgow r russell london irish c smith edinburgh smith northampton taylor edinburgh j white sale\n",
            "---\n",
            "captains lining aid match irelands brian odriscoll one four six nations captains included northern hemisphere squad irb rugby aid match march frances fabien pelous gordon bullock scotland italys marco bortolami also northern party sir clive woodward coach northern team rod macqueens southern hemisphere team tsumani fundraising match twickenham im looking forward working outstanding players said chance woodward assess options unveiling british irish lions touring party visit new zealand summer game promises great spectacle said teams fielding topquality sides really hope rugby public community get behind game raise much money possible deserving cause l dallaglio england b cohen england rougerie france traille france f pelous france r ibanez france p de villiers france b odriscoll ireland capt p oconnell ireland humphreys ireland c paterson scotland c cusiter scotland g bullock scotland taylor scotland lo cicero italy bortolami italy parisse italy peel wales c sweeney wales j thomas wales r williams wales j yapp wales c latham australia r caucaunibuca fiji j fourie africa umaga new zealand bobo fiji mehrtens new zealand g gregan australia capt kefu australia p waugh australia burger africa rawaqa fiji v matfield africa k visagie africa j smit africa c hoeft new zealand reserves b reihana new zealand b lima samoa e taukafa tonga palepoi samoa sititi samoa rauluni fiji n\n",
            "---\n",
            "preview ireland v england sun lansdowne road dublin sunday february gmt bbc radio lw website ireland going first grand slam since two opening wins england represent sternest test championship far england sloppy leaderless defeats wales france another loss would unthinkable pressure coach andy robinson side deliver despite englands dramatic dip form since world cup final lost eight last matches ireland coach eddie osullivan says side underestimate visitors kicked points would beaten france would created different landscape sunday said england talking depth talent good record ireland target victory dublin turning point six nations differences sides also highlighted team selections dublin encounter ireland despite gordon darcy still injured boosted return star skipper brian odriscoll missed scotland game hamstring injury knowledge england game coming really helped rehabilitation said play game enormous doesnt get much bigger england home well entering tournament without players like jonny wilkinson mike tindall richard hill england lost two tighthead props julian white phil vickery blindside flanker lewis moody major concern robinson received lot flak inclusion dropping centre mathew tait kept faith kicking flyhalf charlie hodgson despite horror show twickenham england slump dublin worst run results championship since robinson bullish week game saying side going get faces identified lineout tackle area key englands chances despite recent results skipper jason robinson believes nothing wrong mood camp lack confidence team said sale fullback good weeks training looking forward challenge still believe team know get game right win games g murphy g dempsey b odriscoll horgan hickie r ogara p stringer r corrigan byrne j hayes okelly p oconnell easterby j oconnor foley f sheahan horan ocallaghan e miller g easterby humphreys k maggs j robinson capt cueto j noon barkley j lewsey c hodgson h ellis g rowntree thompson stevens grewcock b kay j worsley l moody corry titterrell bell borthwick hazell dawson goode smith\n",
            "---\n",
            "gb select holmes double bid kelly holmes chosen next months european indoor championships despite yet confirming availability doubleolympic champion still undecided whether compete first european indoors madrid uk athletics chief max jones believes likely holmes race said worth punt isnt shes gone back training shes confident pick one distance programme permit holmes take place gb side already indicated favoured distance championship rules decide hours event begins madrid march jones added pleased run birmingham last weekends grand prix inclined think compete could depend training goes close top form admitted holmes presence would great boost rest norwich union gb team good team member good added meanwhile surprises rest great britain team announced tuesday defending champion jason gardener included chasing third successive gold medal joined event mark lewisfrancis runnerup behind three years ago vienna new boy darren chin kelly sotherton invited championship organisers compete carolina kluft pentathlon sotherton finished third olympic heptathlon athens swede took gold newcomers level competition gbs strong team championships last attended jones retires succeeded dave collins jones said olympic games overwhelming target uka therefore beneficial start next fouryear cycle notsopressurised major games european indoor championships always provide chance young inexperienced make name current indoor season produced exciting new talent madrid first small step long journey beijing olympics emerging athletes important step chin belgrave harriers j gardener wessex bath lewisfrancis birchfield harriers abeyie woodford green essex ladies c lambert belgrave harriers garland channel islands ac j mcilroy windsor slough eton hounslow ac jimmy watkins cardiff aac ed jackson aldershot farnham district n speaight belgrave harriers j thie cardiff aac baddeley harrow ac farah windsor slough eton hounslow ac j mayock barnsley ac greaves newham essex beagles scott shaftesbury barnet harriers turner notts ac b challenger belgrave harriers pole vault n buckfield crawley ac n morgan birchfield harriers c tomlinson newham essex beagles l achike shaftesbury barnet harriers n douglas oxford city ac p idowu belgrave harriers cossins birchfield harriers r davenport gloucester ac garland channel islands ac r preddy gloucester ac g warburton cardiff aac k endacott city plymouth ac j kwakye woodford green essex ladies j maduaka woodford green essex ladies k wall basildon ac k holmes ealing southall middlesex ac h clitheroe preston harriers k holmes ealing southall middlesex ac j pavey exeter harriers allahgreen trafford ac claxton belgrave harriers j crane sale harriers manchester jones trafford ac j whitlock trafford ac j johnson herne hill harriers k sotherton birchfield harriers fraser croydon harriers l mcconnell shaftesbury barnet harriers c murphy woodford green essex ladies purkiss southampton ac\n",
            "---\n",
            "wales make two changes france wales coach mike ruddock made two changes team beat italy saturdays trip france kevin morgan takes injured newportgwent dragons colleague hal luscombe right wing pack neathswansea ospreys forward ryan jones preferred blindside flanker jonathan thomas thomas tryscorer rome drops bench instead ian gough cardiff back rhys williams steps place morgan luscombe sidelined hamstring problem sustained six nations game italy last weekend however experienced inform morgan already pushing hard start stade de france due impressive performances bench kevin much selection mix anyway unfortunate injury hal gives chance start said ruddock ryan jones recovered injury increased options back row jonathan thomas unlucky lose spot performing well italy scoring try competition places every position debated detail particular game felt might always afforded open spaces wide able exploit italy extra big ballcarrier backrow thought necessary occasion obviously man game days every chance jonathan making impact bench wales beaten france two last three visits paris another victory time around would keep firmly course first five six nations title triumph since graham henry former wales coach said couple years ago bold going france proved right said ruddock great way approach game something endorse players week g thomas toulouse capt k morgan newportgwent shanklin cardiff g henson neathswansea williams neathswansea jones clermont auvergne peel llanelli g jenkins cardiff davies gloucester jones neathswansea b cockbain neathswansea r sidoli cardiff r jones neathswansea williams cardiff owen newportgwent replacements r mcbryde llanelli j yapp cardiff j thomas neathswansea r sowdentaylor cardiff g cooper newportgwent c sweeney newportgwent r williams cardiff\n",
            "---\n",
            "jarre joins fairytale celebration french musician jeanmichel jarre perform concert copenhagen mark bicentennial birth writer hans christian andersen denmark holding threeday celebration life fairytale author concert parken stadium april stars expected join lineup coming months danish royal family attend christian andersens fairy tales timeless universal said jarre us age always beyond pure enjoyment tale message learn yearlong celebrations planned across world celebrate andersen work includes emperors new clothes little mermaid denmarks crown prince frederik crown princess mary visited new york monday help promote festivities pair manhattan library honour us literary critic harold bloom international icon thought knew well bloom recognizes darker aspects andersens authorship prince frederik said bloom formally presented hans christian andersen award spring andersons hometown odense royal couple also visited hans christian anderson school complex queen mary read ugly duckling young audience later gala dinner danish supermodel helena christensen named hans christian andersen ambassador ambassadors include actors harvey keitel sir roger moore athlete cathy freeman brazilian soccer legend pele\n",
            "---\n"
          ]
        }
      ],
      "source": [
        "import pandas as pd\n",
        "# Filter the DataFrame for cluster 1\n",
        "cluster_1_descriptions = results[results['label'] == 1]['desc']\n",
        "print(\"Cluster 1 Descriptions:\")\n",
        "for description in cluster_1_descriptions:\n",
        "    print(description)\n",
        "    print(\"---\")  # Separator for readability"
      ]
    },
    {
      "cell_type": "code",
      "execution_count": 63,
      "id": "9757261c",
      "metadata": {},
      "outputs": [
        {
          "name": "stdout",
          "output_type": "stream",
          "text": [
            "\n",
            "Cluster 2 Descriptions:\n",
            "straw backs ending china embargo uk foreign secretary jack straw defended plans end european unions arms embargo china despite opposition us japan mr straw visiting beijing noted arms embargoes applied china burma zimbabwe north korea said terrible rights record eu imposed arms ban china troops opened fire protestors tiananmen square mr straw also signed deal chinauk tourism expected would increase number chinese tourists per year providing revenue china past said sees weapons ban politically driven want lifted order buy weapons mr straw speaking joint news conference chinese foreign minister li zhaoxing stressed point result decision lift arms embargo increase arms exports european union member states china either quantitative qualitative terms mr straw said earlier week said expected embargo lifted within six months mr straw faces tough opposition move tory foreign affairs spokesman michael ancram said lifting arms embargo would irresponsible would damage britains relations us said mr straw naive beyond belief accepted chinas claim want ban lifted order buy weapons french want embargo lifted want sell arms china chinese want lifted want buy arms battlefield technology europe tokyo earlier week japanese foreign minister nobutaka machimura told british minister plan remove embargo worrying issue concerns security environment japan also east asia overall washington argues embargo lifted could lead buying spree arms china could use threaten diplomatic rival taiwan beijing says taiwan part chinese territory wants unite mainland force necessary us bound law help taiwan defend washington also voiced concern human rights conditions china improved enough merit end embargo issue raised human rights groups brad adams uks human rights watch said huge political signal europe willing forget tiananmen square mr straw insisted eus code conduct arms exports meant tough criteria human rights still met embargo lifted\n",
            "---\n",
            "brown visits slum africa trip chancellor gordon brown visited kenyas biggest shantytown opened weeklong visit africa mr browns trip designed highlight uk wants make africas problems priority chairmanship g year see hivaids orphanage tanzania womens credit union mozambique chairing meeting commission africa cape town slums narobi wednesday said education needs tackled speaking outside olympic primary school mr brown said simply acceptable modern age rest world stand hundreds millions children getting chance education pointed international plans invest bn education africa next decade school edge kibera live often huts made mud scrap metal cardboard mr browns aides say wants find kenyan governments education policies included introducing free primary education early chancellor already unveiled proposals g aid package likened marshall plan used united states rebuild europe world war two trip follows claims infighting mr brown tony blair detailed new book conservative leader michael howard expected seize reports prime ministers questions gmt wednesday\n",
            "---\n",
            "eu china arms ban lifted eu embargo arms exports china likely lifted next six months despite us objections uk foreign secretary jack straw said yearold ban imposed aftermath chinas crackdown protesters tiananmen square mr straw told commons select committee human rights concerns china remained said wrong put china embargo countries zimbabwe burma december eu pledged work towards lifting ban said ready yet eus move welcomed time beijing described embargo product cold war german chancellor gerhard schroeder french president jacques chirac repeatedly called embargo lifted britain cautious issue wednesday mr straw said also wanted end long understood chinas argument lump say burma zimbabwe appropriate dont think told joint committee strategic export controls said likely ban would lifted britain takes presidency eu luxembourg july said eu code conduct would prevent increase number arms exported country lifted end effective arms controls relation china mr straw said us government suspicious motives countries within eu wanting ban lifted said many washingtons objections based lack information understanding export control guidelines worked eu countries intense discussions taking place us officials convince right thing washington thought fear would lead buying spree arms could used china threaten diplomatic rival taiwan us officials say satisfied mechanisms eu code conduct robust enough prevent abuses us undersecretary state john bolton meeting british officials week press case keeping embargo\n",
            "---\n",
            "straw attacked china arms moves lift european unions ban arms exports china condemned human rights groups conservatives year embargo imposed aftermath chinas crackdown protesters tiananmen square uk foreign secretary jack straw hold talks beijing thursday said eu arms code effective current ban human rights watch says eu putting commerce abuse concerns december eu pledged work towards lifting ban said ready yet germany france repeatedly called embargo lifted britain cautious mr straw last week said also wanted end despite us objections expects lifted next six months prediction alarmed critics brad adams human rights watch said huge political signal europe willing forget tiananmen square still thousands people unaccounted mr straw said wrong put china embargo countries zimbabwe burma scope embargo narrow force law behind told bbc radio world one uk export licences refused existing european union arms code embargo said two licences denied embargo would granted code code conduct much effective powerful tool intend strengthen precondition lifting embargo china said mr straw denied decision would suggest china tiananmen square forgotten level human rights key criteria eu arms exports code said human rights groups say code conduct legally binding mr straw said would given legal force laws many eu countries conservative shadow foreign secretary michael ancram said move would profoundly wrong decision could undermine nato severely damaged relations us opposed ending ban mr ancram argued british government giving french german pressure especially french see vast contracts available embargo lifted gives wrong signals china simply prepared accept happened tiananmen square wrong mr straws china trip part regular highlevel meetings beijing ministers meet chinese counterpart minister li zhaoxing discuss developing relations two countries hong kong chinas part talks north korea\n",
            "---\n",
            "ukraine trims privatisation check ukraine review dozens state asset sales countrys new administration tackles corruption figure announced president viktor yushchenko less cases mentioned last week cover many biggest deals ukraine recently ousted longserving leader leonid kuchma said wants closer european union links separate statement eu said us back ukraines entry world trade organisation comments came viktor yushchenko prepared head brussels meet us president george w bush north atlantic treaty organisation nato leaders nonnato member leader invited attend summit mr yushchenko recently defeated moscowbacked presidential candidate prime minister viktor yanukovych polls made secret wish fight corruption make ukraine transparent earlier month new prime minister yulia tymoshenko said many firms may privatisations put spotlight comments raised concerns among number investors mr yushchenko seen monday trying soothe frayed nerves acknowledge business ukraine shaped privatisations carried according law mr yushchenko said monday trust business want defend law continued adding review would focus dozens companies hundreds thousands cited last years sale ukrainian steel producer krivorizhstal one raised concerns sold june consortium included viktor pinchuk soninlaw formerpresident kuchma rinat akhmetov countrys richest man despite higher offers viceprime minister oleg rybachuk called eu recognise steps ukraine taking fearing country rewarded efforts may backlash closer relations brussels said understood ukraine ready eu membership country needed see progress topics trade visa requirements deserve honest response mr rybachuk told associated press interview understand difficulties refuse understand double standards ukraine may find sympathetic ear brussels eu reiterated support ukraines fast accession wto possible would like happen time year said claude veronreville spokesman eu trade commissioner peter mandelson said much americans feel important us pull together ukraine allowed wto mr yushchenko careful turn back russia borders country east saying important maintain pragmatic ties moscow russia ukraines eternal strategic partner mr yushchenko said\n",
            "---\n"
          ]
        }
      ],
      "source": [
        "import pandas as pd\n",
        "\n",
        "# Filter the DataFrame for cluster 2\n",
        "cluster_2_descriptions = results[results['label'] == 2]['desc']\n",
        "print(\"\\nCluster 2 Descriptions:\")\n",
        "for description in cluster_2_descriptions:\n",
        "    print(description)\n",
        "    print(\"---\")  \n"
      ]
    },
    {
      "cell_type": "code",
      "execution_count": 64,
      "id": "-DtJ1uNwLMxl",
      "metadata": {
        "colab": {
          "base_uri": "https://localhost:8080/",
          "height": 143
        },
        "id": "-DtJ1uNwLMxl",
        "outputId": "db86469b-1b54-4f98-c3bf-b05c9119a041"
      },
      "outputs": [
        {
          "data": {
            "text/html": [
              "<div>\n",
              "<style scoped>\n",
              "    .dataframe tbody tr th:only-of-type {\n",
              "        vertical-align: middle;\n",
              "    }\n",
              "\n",
              "    .dataframe tbody tr th {\n",
              "        vertical-align: top;\n",
              "    }\n",
              "\n",
              "    .dataframe thead th {\n",
              "        text-align: right;\n",
              "    }\n",
              "</style>\n",
              "<table border=\"1\" class=\"dataframe\">\n",
              "  <thead>\n",
              "    <tr style=\"text-align: right;\">\n",
              "      <th></th>\n",
              "      <th>desc</th>\n",
              "      <th>label</th>\n",
              "    </tr>\n",
              "  </thead>\n",
              "  <tbody>\n",
              "    <tr>\n",
              "      <th>0</th>\n",
              "      <td>Moldova’s unrecognised breakaway region of Tra...</td>\n",
              "      <td>-1</td>\n",
              "    </tr>\n",
              "    <tr>\n",
              "      <th>1</th>\n",
              "      <td>Though Moldova does not allow Russia to deploy...</td>\n",
              "      <td>-1</td>\n",
              "    </tr>\n",
              "    <tr>\n",
              "      <th>2</th>\n",
              "      <td>Moldova’s ties with Russia are currently badly...</td>\n",
              "      <td>-1</td>\n",
              "    </tr>\n",
              "  </tbody>\n",
              "</table>\n",
              "</div>"
            ],
            "text/plain": [
              "                                                desc  label\n",
              "0  Moldova’s unrecognised breakaway region of Tra...     -1\n",
              "1  Though Moldova does not allow Russia to deploy...     -1\n",
              "2  Moldova’s ties with Russia are currently badly...     -1"
            ]
          },
          "execution_count": 64,
          "metadata": {},
          "output_type": "execute_result"
        }
      ],
      "source": [
        "prediction_results.head()"
      ]
    }
  ],
  "metadata": {
    "colab": {
      "provenance": []
    },
    "kernelspec": {
      "display_name": "Python 3",
      "language": "python",
      "name": "python3"
    },
    "language_info": {
      "codemirror_mode": {
        "name": "ipython",
        "version": 3
      },
      "file_extension": ".py",
      "mimetype": "text/x-python",
      "name": "python",
      "nbconvert_exporter": "python",
      "pygments_lexer": "ipython3",
      "version": "3.9.6"
    }
  },
  "nbformat": 4,
  "nbformat_minor": 5
}
